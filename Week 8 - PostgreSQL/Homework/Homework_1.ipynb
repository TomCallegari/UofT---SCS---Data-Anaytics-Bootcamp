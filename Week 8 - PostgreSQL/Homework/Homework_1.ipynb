{
 "cells": [
  {
   "cell_type": "code",
   "execution_count": null,
   "metadata": {},
   "outputs": [],
   "source": [
    "import pandas as pd\n",
    "import numpy as np\n",
    "import matplotlib.pyplot as plt\n",
    "import sqlalchemy as db\n",
    "\n",
    "from config import password"
   ]
  },
  {
   "cell_type": "code",
   "execution_count": null,
   "metadata": {},
   "outputs": [],
   "source": [
    "db_string = 'postgresql://postgres:' + password + '@localhost:5432/Homework_1'\n",
    "\n",
    "engine = db.create_engine(db_string)\n",
    "\n",
    "connection = engine.connect()"
   ]
  },
  {
   "cell_type": "code",
   "execution_count": null,
   "metadata": {},
   "outputs": [],
   "source": [
    "df = pd.read_sql('''SELECT t.title, ROUND(AVG(s.salary), 2) AS salaries\n",
    "                    FROM titles AS t\n",
    "                    LEFT JOIN salaries AS s ON\n",
    "                    t.emp_no = s.emp_no\n",
    "                    GROUP BY t.title\n",
    "                    ORDER BY salaries ASC;''', con = connection)"
   ]
  },
  {
   "cell_type": "code",
   "execution_count": null,
   "metadata": {},
   "outputs": [],
   "source": [
    "df"
   ]
  },
  {
   "cell_type": "code",
   "execution_count": null,
   "metadata": {},
   "outputs": [],
   "source": [
    "plt.rcParams.update({'font.size': 16})\n",
    "plt.rcParams['axes.axisbelow'] = True\n",
    "\n",
    "fig, ax = plt.subplots(1, figsize = [12.5, 7])\n",
    "\n",
    "ax.barh(\n",
    "    df['title'], \n",
    "    df['salaries'],\n",
    "    color = '#002147'\n",
    ")\n",
    "\n",
    "ax.set_xlabel('Salary')\n",
    "ax.set_ylabel('Position')\n",
    "ax.set_title('Salaries by Position')\n",
    "\n",
    "plt.grid(which = 'major', color = '#666666', linestyle = '-')\n",
    "plt.minorticks_on()\n",
    "plt.grid(which = 'minor', color = '#666666', linestyle = '-', alpha = 0.2)\n",
    "\n",
    "plt.tight_layout()\n",
    "plt.savefig('Salaries by Position.png')\n",
    "\n",
    "plt.show()"
   ]
  },
  {
   "cell_type": "code",
   "execution_count": null,
   "metadata": {},
   "outputs": [],
   "source": []
  }
 ],
 "metadata": {
  "kernelspec": {
   "display_name": "Python 3",
   "language": "python",
   "name": "python3"
  },
  "language_info": {
   "codemirror_mode": {
    "name": "ipython",
    "version": 3
   },
   "file_extension": ".py",
   "mimetype": "text/x-python",
   "name": "python",
   "nbconvert_exporter": "python",
   "pygments_lexer": "ipython3",
   "version": "3.7.3"
  }
 },
 "nbformat": 4,
 "nbformat_minor": 2
}
