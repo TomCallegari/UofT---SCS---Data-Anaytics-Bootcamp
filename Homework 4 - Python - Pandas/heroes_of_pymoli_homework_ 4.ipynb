{
 "cells": [
  {
   "cell_type": "markdown",
   "metadata": {},
   "source": [
    "# Heroes of Pymoli - Homework 4 - Pandas - Tom Callegari"
   ]
  },
  {
   "cell_type": "markdown",
   "metadata": {},
   "source": [
    "### 3 Noticeable Trends\n",
    "\n",
    "* Within this sample, it appears that females spend more on average than males (\\\\$4.47 Females to \\\\$4.04 Males)\n",
    "* Close to 76% of all purchasers are between the ages of 15 to 29\n",
    "* The average total purchase per person among this group is lower at \\\\$4.00 than the overall average of \\\\$4.05\n"
   ]
  },
  {
   "cell_type": "code",
   "execution_count": 1,
   "metadata": {},
   "outputs": [],
   "source": [
    "# Import the packages neeed for analysis\n",
    "import numpy as np\n",
    "import pandas as pd"
   ]
  },
  {
   "cell_type": "code",
   "execution_count": 2,
   "metadata": {},
   "outputs": [],
   "source": [
    "# Import the PyMoli purchase_data.csv and name it 'data'\n",
    "data = pd.read_csv('purchase_data.csv', encoding='utf-8')"
   ]
  },
  {
   "cell_type": "markdown",
   "metadata": {},
   "source": [
    "### Player Count\n",
    "\n",
    "* Display the total number of players"
   ]
  },
  {
   "cell_type": "code",
   "execution_count": 3,
   "metadata": {},
   "outputs": [
    {
     "data": {
      "text/html": [
       "<div>\n",
       "<style scoped>\n",
       "    .dataframe tbody tr th:only-of-type {\n",
       "        vertical-align: middle;\n",
       "    }\n",
       "\n",
       "    .dataframe tbody tr th {\n",
       "        vertical-align: top;\n",
       "    }\n",
       "\n",
       "    .dataframe thead th {\n",
       "        text-align: right;\n",
       "    }\n",
       "</style>\n",
       "<table border=\"1\" class=\"dataframe\">\n",
       "  <thead>\n",
       "    <tr style=\"text-align: right;\">\n",
       "      <th></th>\n",
       "      <th>Total Players</th>\n",
       "    </tr>\n",
       "  </thead>\n",
       "  <tbody>\n",
       "    <tr>\n",
       "      <th>Count</th>\n",
       "      <td>576</td>\n",
       "    </tr>\n",
       "  </tbody>\n",
       "</table>\n",
       "</div>"
      ],
      "text/plain": [
       "       Total Players\n",
       "Count            576"
      ]
     },
     "execution_count": 3,
     "metadata": {},
     "output_type": "execute_result"
    }
   ],
   "source": [
    "# Isolate total number of unique players\n",
    "unique_players = data['SN'].nunique()\n",
    "\n",
    "# Assemble the needed data into a dictionary\n",
    "unique_dict = {\n",
    "    'Total Players': int(unique_players)\n",
    "}\n",
    "\n",
    "# Insert the dictionary into a pandas dataframe and add an index label\n",
    "total_players = pd.DataFrame(unique_dict, index=['Count'])\n",
    "total_players"
   ]
  },
  {
   "cell_type": "markdown",
   "metadata": {},
   "source": [
    "### Purchasing Analysis (Total)\n",
    "\n",
    "* Run basic calculations to obtain number of unique items, average price, etc.\n",
    "* Create a summary data frame to hold the results\n",
    "* Optional: Give the displayed data cleaner formatting\n",
    "* Display the summary data frame"
   ]
  },
  {
   "cell_type": "code",
   "execution_count": 4,
   "metadata": {},
   "outputs": [
    {
     "data": {
      "text/html": [
       "<style  type=\"text/css\" >\n",
       "</style><table id=\"T_271dd8fa_8fc4_11e9_8bf4_1002b577055a\" ><thead>    <tr>        <th class=\"blank level0\" ></th>        <th class=\"col_heading level0 col0\" >Number of Unique Items</th>        <th class=\"col_heading level0 col1\" >Average Price</th>        <th class=\"col_heading level0 col2\" >Number of Purchases</th>        <th class=\"col_heading level0 col3\" >Total Revenue</th>    </tr></thead><tbody>\n",
       "                <tr>\n",
       "                        <th id=\"T_271dd8fa_8fc4_11e9_8bf4_1002b577055alevel0_row0\" class=\"row_heading level0 row0\" >Count</th>\n",
       "                        <td id=\"T_271dd8fa_8fc4_11e9_8bf4_1002b577055arow0_col0\" class=\"data row0 col0\" >183</td>\n",
       "                        <td id=\"T_271dd8fa_8fc4_11e9_8bf4_1002b577055arow0_col1\" class=\"data row0 col1\" >$3.05</td>\n",
       "                        <td id=\"T_271dd8fa_8fc4_11e9_8bf4_1002b577055arow0_col2\" class=\"data row0 col2\" >780</td>\n",
       "                        <td id=\"T_271dd8fa_8fc4_11e9_8bf4_1002b577055arow0_col3\" class=\"data row0 col3\" >$2379.77</td>\n",
       "            </tr>\n",
       "    </tbody></table>"
      ],
      "text/plain": [
       "<pandas.io.formats.style.Styler at 0x1f17cd3b630>"
      ]
     },
     "execution_count": 4,
     "metadata": {},
     "output_type": "execute_result"
    }
   ],
   "source": [
    "# Isolate the variables needed to populate the summary table\n",
    "unique_items = int(data['Item ID'].nunique())\n",
    "mean_price = round(data['Price'].mean(), 2)\n",
    "purchases = int(data['Purchase ID'].nunique())\n",
    "revenue = data['Price'].sum()\n",
    "\n",
    "# Assemble the needed data into a dictionary with f strings to add $ signs\n",
    "purchase_dict = {\n",
    "    'Number of Unique Items': unique_items,\n",
    "    'Average Price': mean_price,\n",
    "    'Number of Purchases': purchases,\n",
    "    'Total Revenue': revenue\n",
    "}\n",
    "\n",
    "# Insert the dictionary into a pandas dataframe and add an index label\n",
    "purchasing_analysis = pd.DataFrame(purchase_dict, index = ['Count'])\n",
    "\n",
    "# Format the appropriate cells to show $ signs\n",
    "purchasing_analysis = purchasing_analysis.style.format({\n",
    "    'Average Price': '${:.2f}'.format, \n",
    "    'Total Revenue': '${:.2f}'.format\n",
    "})\n",
    "\n",
    "# Display the summary table\n",
    "purchasing_analysis"
   ]
  },
  {
   "cell_type": "markdown",
   "metadata": {},
   "source": [
    "### Gender Demographics\n",
    "\n",
    "* Percentage and Count of Male Players\n",
    "* Percentage and Count of Female Players\n",
    "* Percentage and Count of Other / Non-Disclosed"
   ]
  },
  {
   "cell_type": "code",
   "execution_count": 5,
   "metadata": {},
   "outputs": [
    {
     "data": {
      "text/html": [
       "<style  type=\"text/css\" >\n",
       "</style><table id=\"T_27212c18_8fc4_11e9_aa8f_1002b577055a\" ><thead>    <tr>        <th class=\"blank level0\" ></th>        <th class=\"col_heading level0 col0\" >Total Count</th>        <th class=\"col_heading level0 col1\" >Percentage of Players</th>    </tr></thead><tbody>\n",
       "                <tr>\n",
       "                        <th id=\"T_27212c18_8fc4_11e9_aa8f_1002b577055alevel0_row0\" class=\"row_heading level0 row0\" >Male</th>\n",
       "                        <td id=\"T_27212c18_8fc4_11e9_aa8f_1002b577055arow0_col0\" class=\"data row0 col0\" >484</td>\n",
       "                        <td id=\"T_27212c18_8fc4_11e9_aa8f_1002b577055arow0_col1\" class=\"data row0 col1\" >84.03%</td>\n",
       "            </tr>\n",
       "            <tr>\n",
       "                        <th id=\"T_27212c18_8fc4_11e9_aa8f_1002b577055alevel0_row1\" class=\"row_heading level0 row1\" >Female</th>\n",
       "                        <td id=\"T_27212c18_8fc4_11e9_aa8f_1002b577055arow1_col0\" class=\"data row1 col0\" >81</td>\n",
       "                        <td id=\"T_27212c18_8fc4_11e9_aa8f_1002b577055arow1_col1\" class=\"data row1 col1\" >14.06%</td>\n",
       "            </tr>\n",
       "            <tr>\n",
       "                        <th id=\"T_27212c18_8fc4_11e9_aa8f_1002b577055alevel0_row2\" class=\"row_heading level0 row2\" >Other / Non-Disclosed</th>\n",
       "                        <td id=\"T_27212c18_8fc4_11e9_aa8f_1002b577055arow2_col0\" class=\"data row2 col0\" >11</td>\n",
       "                        <td id=\"T_27212c18_8fc4_11e9_aa8f_1002b577055arow2_col1\" class=\"data row2 col1\" >1.91%</td>\n",
       "            </tr>\n",
       "    </tbody></table>"
      ],
      "text/plain": [
       "<pandas.io.formats.style.Styler at 0x1f17da69898>"
      ]
     },
     "execution_count": 5,
     "metadata": {},
     "output_type": "execute_result"
    }
   ],
   "source": [
    "# Isolate and compute the variables needed to populate the summary table\n",
    "demographics = data.groupby(['SN', 'Gender']).agg({'SN': 'count'}).groupby('Gender').count()\n",
    "\n",
    "females = demographics.iloc[0, 0]\n",
    "females_perc = round(females / 576, 4) * 100\n",
    "\n",
    "males = demographics.iloc[1, 0]\n",
    "males_perc = round(males / 576, 4) * 100\n",
    "\n",
    "others = demographics.iloc[2, 0]\n",
    "others_perc = round(others / 576, 4) * 100\n",
    "\n",
    "# Assemble the needed data into a dictionary with f strings to add % symbols\n",
    "gender_dict = {\n",
    "    'Total Count': [males, females, others],\n",
    "    'Percentage of Players': [males_perc, females_perc, others_perc]  \n",
    "}\n",
    "\n",
    "# Insert the dictionary into a pandas dataframe and add an index label\n",
    "gender_data = pd.DataFrame(gender_dict, index=['Male', 'Female', 'Other / Non-Disclosed'])\n",
    "\n",
    "# Format appropriate cells in the table to show the % symbol\n",
    "gender_data = gender_data.style.format({\n",
    "    'Percentage of Players': '{:.2f}%'.format\n",
    "})\n",
    "\n",
    "# Display the summary table\n",
    "gender_data"
   ]
  },
  {
   "cell_type": "markdown",
   "metadata": {},
   "source": [
    "### Purchasing Analysis (Gender)\n",
    "\n",
    "* Run basic calculations to obatin purchase count, average purchase price, average purchase total per person etc. by gender\n",
    "* Create a summary data frame to hold the results\n",
    "* Optional: Give the displayed data cleaner formatting\n",
    "* Display the summary data frame"
   ]
  },
  {
   "cell_type": "code",
   "execution_count": 6,
   "metadata": {},
   "outputs": [
    {
     "data": {
      "text/html": [
       "<style  type=\"text/css\" >\n",
       "</style><table id=\"T_2a3e8cd0_8fc4_11e9_91f3_1002b577055a\" ><thead>    <tr>        <th class=\"blank level0\" ></th>        <th class=\"col_heading level0 col0\" >Purchase Count</th>        <th class=\"col_heading level0 col1\" >Average Purchase Price</th>        <th class=\"col_heading level0 col2\" >Total Purchase Value</th>        <th class=\"col_heading level0 col3\" >Avg Total Purchase per Person</th>    </tr>    <tr>        <th class=\"index_name level0\" >Gender</th>        <th class=\"blank\" ></th>        <th class=\"blank\" ></th>        <th class=\"blank\" ></th>        <th class=\"blank\" ></th>    </tr></thead><tbody>\n",
       "                <tr>\n",
       "                        <th id=\"T_2a3e8cd0_8fc4_11e9_91f3_1002b577055alevel0_row0\" class=\"row_heading level0 row0\" >Female</th>\n",
       "                        <td id=\"T_2a3e8cd0_8fc4_11e9_91f3_1002b577055arow0_col0\" class=\"data row0 col0\" >113</td>\n",
       "                        <td id=\"T_2a3e8cd0_8fc4_11e9_91f3_1002b577055arow0_col1\" class=\"data row0 col1\" >$3.20</td>\n",
       "                        <td id=\"T_2a3e8cd0_8fc4_11e9_91f3_1002b577055arow0_col2\" class=\"data row0 col2\" >$361.94</td>\n",
       "                        <td id=\"T_2a3e8cd0_8fc4_11e9_91f3_1002b577055arow0_col3\" class=\"data row0 col3\" >$4.47</td>\n",
       "            </tr>\n",
       "            <tr>\n",
       "                        <th id=\"T_2a3e8cd0_8fc4_11e9_91f3_1002b577055alevel0_row1\" class=\"row_heading level0 row1\" >Male</th>\n",
       "                        <td id=\"T_2a3e8cd0_8fc4_11e9_91f3_1002b577055arow1_col0\" class=\"data row1 col0\" >652</td>\n",
       "                        <td id=\"T_2a3e8cd0_8fc4_11e9_91f3_1002b577055arow1_col1\" class=\"data row1 col1\" >$3.02</td>\n",
       "                        <td id=\"T_2a3e8cd0_8fc4_11e9_91f3_1002b577055arow1_col2\" class=\"data row1 col2\" >$1,967.64</td>\n",
       "                        <td id=\"T_2a3e8cd0_8fc4_11e9_91f3_1002b577055arow1_col3\" class=\"data row1 col3\" >$4.07</td>\n",
       "            </tr>\n",
       "            <tr>\n",
       "                        <th id=\"T_2a3e8cd0_8fc4_11e9_91f3_1002b577055alevel0_row2\" class=\"row_heading level0 row2\" >Other / Non-Disclosed</th>\n",
       "                        <td id=\"T_2a3e8cd0_8fc4_11e9_91f3_1002b577055arow2_col0\" class=\"data row2 col0\" >15</td>\n",
       "                        <td id=\"T_2a3e8cd0_8fc4_11e9_91f3_1002b577055arow2_col1\" class=\"data row2 col1\" >$3.35</td>\n",
       "                        <td id=\"T_2a3e8cd0_8fc4_11e9_91f3_1002b577055arow2_col2\" class=\"data row2 col2\" >$50.19</td>\n",
       "                        <td id=\"T_2a3e8cd0_8fc4_11e9_91f3_1002b577055arow2_col3\" class=\"data row2 col3\" >$4.56</td>\n",
       "            </tr>\n",
       "    </tbody></table>"
      ],
      "text/plain": [
       "<pandas.io.formats.style.Styler at 0x1f17ccec6a0>"
      ]
     },
     "execution_count": 6,
     "metadata": {},
     "output_type": "execute_result"
    }
   ],
   "source": [
    "# Groupby Gender then count the number of purchases and find the mean price of purchases\n",
    "# then save as a new dataframe names purchase_analysis\n",
    "purchase_analysis = data.groupby('Gender').agg({'Purchase ID': 'count', 'Price': 'mean'})\n",
    "\n",
    "# Rename Price and Purchase ID to match gitlab example\n",
    "purchase_analysis = purchase_analysis.rename(columns={'Price': 'Average Purchase Price', 'Purchase ID': 'Purchase Count'})\n",
    "\n",
    "# Groupby SN (screen-name?) then Gender then get the mean purchase price for each Gender group\n",
    "purchase_analysis['Avg Total Purchase per Person'] = data.groupby(['SN', 'Gender']).agg({'Price': 'sum'}).groupby('Gender').agg({'Price': 'mean'})\n",
    "\n",
    "# Groupby Gender and get the sum of purchases spent per Gender group\n",
    "purchase_analysis['Total Purchase Value'] = data.groupby('Gender').agg({'Price': 'sum'})\n",
    "\n",
    "# Round Average Purchase Price and Avg Total Purchase per Person to 2 decimal places\n",
    "purchase_analysis[['Average Purchase Price', 'Avg Total Purchase per Person']] = purchase_analysis[['Average Purchase Price', 'Avg Total Purchase per Person']].round(2)\n",
    "\n",
    "# Reorder the columns to match gitlab example\n",
    "purchase_analysis = purchase_analysis[['Purchase Count', 'Average Purchase Price', 'Total Purchase Value', 'Avg Total Purchase per Person']]\n",
    "\n",
    "# Round each value to two decimal places\n",
    "purchase_analysis = purchase_analysis.round(2)\n",
    "\n",
    "# Format the data frame to include $\n",
    "purchase_analysis = purchase_analysis.style.format({\n",
    "    'Average Purchase Price': '${:.2f}'.format, \n",
    "    'Total Purchase Value': '${:,.2f}'.format, \n",
    "    'Avg Total Purchase per Person': '${:.2f}'.format\n",
    "})\n",
    "\n",
    "# Display the summary table\n",
    "purchase_analysis\n"
   ]
  },
  {
   "cell_type": "markdown",
   "metadata": {},
   "source": [
    "### Age Demographics\n",
    "\n",
    "* Establish bins for ages\n",
    "* Categorize the existing players using the age bins. Hint: use pd.cut()\n",
    "* Calculate the numbers and percentages by age group\n",
    "* Creat a summary data frame to hold the results\n",
    "* Optional: Round the percentage column to two decimal points\n",
    "* Display the Age Demographics Table"
   ]
  },
  {
   "cell_type": "code",
   "execution_count": 7,
   "metadata": {},
   "outputs": [
    {
     "data": {
      "text/html": [
       "<style  type=\"text/css\" >\n",
       "</style><table id=\"T_350ecfae_8fc4_11e9_88dc_1002b577055a\" ><thead>    <tr>        <th class=\"blank level0\" ></th>        <th class=\"col_heading level0 col0\" >Total Count</th>        <th class=\"col_heading level0 col1\" >Percentage of Players</th>    </tr>    <tr>        <th class=\"index_name level0\" >Age Bin</th>        <th class=\"blank\" ></th>        <th class=\"blank\" ></th>    </tr></thead><tbody>\n",
       "                <tr>\n",
       "                        <th id=\"T_350ecfae_8fc4_11e9_88dc_1002b577055alevel0_row0\" class=\"row_heading level0 row0\" >< 10</th>\n",
       "                        <td id=\"T_350ecfae_8fc4_11e9_88dc_1002b577055arow0_col0\" class=\"data row0 col0\" >17</td>\n",
       "                        <td id=\"T_350ecfae_8fc4_11e9_88dc_1002b577055arow0_col1\" class=\"data row0 col1\" >2.95%</td>\n",
       "            </tr>\n",
       "            <tr>\n",
       "                        <th id=\"T_350ecfae_8fc4_11e9_88dc_1002b577055alevel0_row1\" class=\"row_heading level0 row1\" >10-14</th>\n",
       "                        <td id=\"T_350ecfae_8fc4_11e9_88dc_1002b577055arow1_col0\" class=\"data row1 col0\" >22</td>\n",
       "                        <td id=\"T_350ecfae_8fc4_11e9_88dc_1002b577055arow1_col1\" class=\"data row1 col1\" >3.82%</td>\n",
       "            </tr>\n",
       "            <tr>\n",
       "                        <th id=\"T_350ecfae_8fc4_11e9_88dc_1002b577055alevel0_row2\" class=\"row_heading level0 row2\" >15-19</th>\n",
       "                        <td id=\"T_350ecfae_8fc4_11e9_88dc_1002b577055arow2_col0\" class=\"data row2 col0\" >107</td>\n",
       "                        <td id=\"T_350ecfae_8fc4_11e9_88dc_1002b577055arow2_col1\" class=\"data row2 col1\" >18.58%</td>\n",
       "            </tr>\n",
       "            <tr>\n",
       "                        <th id=\"T_350ecfae_8fc4_11e9_88dc_1002b577055alevel0_row3\" class=\"row_heading level0 row3\" >20-24</th>\n",
       "                        <td id=\"T_350ecfae_8fc4_11e9_88dc_1002b577055arow3_col0\" class=\"data row3 col0\" >258</td>\n",
       "                        <td id=\"T_350ecfae_8fc4_11e9_88dc_1002b577055arow3_col1\" class=\"data row3 col1\" >44.79%</td>\n",
       "            </tr>\n",
       "            <tr>\n",
       "                        <th id=\"T_350ecfae_8fc4_11e9_88dc_1002b577055alevel0_row4\" class=\"row_heading level0 row4\" >25-29</th>\n",
       "                        <td id=\"T_350ecfae_8fc4_11e9_88dc_1002b577055arow4_col0\" class=\"data row4 col0\" >77</td>\n",
       "                        <td id=\"T_350ecfae_8fc4_11e9_88dc_1002b577055arow4_col1\" class=\"data row4 col1\" >13.37%</td>\n",
       "            </tr>\n",
       "            <tr>\n",
       "                        <th id=\"T_350ecfae_8fc4_11e9_88dc_1002b577055alevel0_row5\" class=\"row_heading level0 row5\" >30-34</th>\n",
       "                        <td id=\"T_350ecfae_8fc4_11e9_88dc_1002b577055arow5_col0\" class=\"data row5 col0\" >52</td>\n",
       "                        <td id=\"T_350ecfae_8fc4_11e9_88dc_1002b577055arow5_col1\" class=\"data row5 col1\" >9.03%</td>\n",
       "            </tr>\n",
       "            <tr>\n",
       "                        <th id=\"T_350ecfae_8fc4_11e9_88dc_1002b577055alevel0_row6\" class=\"row_heading level0 row6\" >35-39</th>\n",
       "                        <td id=\"T_350ecfae_8fc4_11e9_88dc_1002b577055arow6_col0\" class=\"data row6 col0\" >31</td>\n",
       "                        <td id=\"T_350ecfae_8fc4_11e9_88dc_1002b577055arow6_col1\" class=\"data row6 col1\" >5.38%</td>\n",
       "            </tr>\n",
       "            <tr>\n",
       "                        <th id=\"T_350ecfae_8fc4_11e9_88dc_1002b577055alevel0_row7\" class=\"row_heading level0 row7\" >40+</th>\n",
       "                        <td id=\"T_350ecfae_8fc4_11e9_88dc_1002b577055arow7_col0\" class=\"data row7 col0\" >12</td>\n",
       "                        <td id=\"T_350ecfae_8fc4_11e9_88dc_1002b577055arow7_col1\" class=\"data row7 col1\" >2.08%</td>\n",
       "            </tr>\n",
       "    </tbody></table>"
      ],
      "text/plain": [
       "<pandas.io.formats.style.Styler at 0x1f17cd3b4e0>"
      ]
     },
     "execution_count": 7,
     "metadata": {},
     "output_type": "execute_result"
    }
   ],
   "source": [
    "# Cut the Age variable into labeled ranges that represent the pre-specified bins\n",
    "data['Age Bin'] = pd.cut(data['Age'],\n",
    "                         [0, 9, 14, 19, 24, 29, 34, 39, 45],\n",
    "                        labels = ['< 10', '10-14', '15-19', '20-24', '25-29', '30-34', '35-39', '40+'])\n",
    "\n",
    "# Groupby the SN and Age Bin variables and aggregate a count number then groupby the Age Bin and get the final count\n",
    "age_demographics = data.groupby(['SN', 'Age Bin']).agg({'SN': 'count'}).groupby('Age Bin').count()\n",
    "\n",
    "# Rename the SN column to Total Count\n",
    "age_demographics = age_demographics.rename(columns={'SN': 'Total Count'})\n",
    "\n",
    "# Pull the age_total_count numbers out and divide by the total number of players and multiply by 100 to get a percentage\n",
    "age_total_count = age_demographics['Total Count']\n",
    "age_demographics['Percentage of Players'] = (age_total_count / 576) * 100\n",
    "\n",
    "# Round the data frame to two decimal places\n",
    "age_demographics = age_demographics.round(2)\n",
    "\n",
    "# Style the data frame to include % symbols where appropriate\n",
    "styled_age_demographics = age_demographics.style.format({\n",
    "    'Percentage of Players': '{:.2f}%'.format\n",
    "})\n",
    "\n",
    "# Display the summary table\n",
    "styled_age_demographics"
   ]
  },
  {
   "cell_type": "markdown",
   "metadata": {},
   "source": [
    "### Purchasing Analysis (Age)\n",
    "\n",
    "* Bin the purchase_data data frame by age\n",
    "* Run basic calculations to obtain purchase count, average purchase price, average total per person etc. in the table below\n",
    "* Create a summary data frame to hold the results\n",
    "* Optional: Give the displayed data cleaner formatting\n",
    "* Display the summary data frame"
   ]
  },
  {
   "cell_type": "code",
   "execution_count": 8,
   "metadata": {},
   "outputs": [
    {
     "data": {
      "text/html": [
       "<style  type=\"text/css\" >\n",
       "</style><table id=\"T_48d70064_8fc4_11e9_a528_1002b577055a\" ><thead>    <tr>        <th class=\"blank level0\" ></th>        <th class=\"col_heading level0 col0\" >Purchase Count</th>        <th class=\"col_heading level0 col1\" >Average Purchase Price</th>        <th class=\"col_heading level0 col2\" >Total Purchase Value</th>        <th class=\"col_heading level0 col3\" >Avg Total Purchase per Person</th>    </tr>    <tr>        <th class=\"index_name level0\" >Age Bin</th>        <th class=\"blank\" ></th>        <th class=\"blank\" ></th>        <th class=\"blank\" ></th>        <th class=\"blank\" ></th>    </tr></thead><tbody>\n",
       "                <tr>\n",
       "                        <th id=\"T_48d70064_8fc4_11e9_a528_1002b577055alevel0_row0\" class=\"row_heading level0 row0\" >< 10</th>\n",
       "                        <td id=\"T_48d70064_8fc4_11e9_a528_1002b577055arow0_col0\" class=\"data row0 col0\" >23</td>\n",
       "                        <td id=\"T_48d70064_8fc4_11e9_a528_1002b577055arow0_col1\" class=\"data row0 col1\" >$3.35</td>\n",
       "                        <td id=\"T_48d70064_8fc4_11e9_a528_1002b577055arow0_col2\" class=\"data row0 col2\" >$77.13</td>\n",
       "                        <td id=\"T_48d70064_8fc4_11e9_a528_1002b577055arow0_col3\" class=\"data row0 col3\" >$4.54</td>\n",
       "            </tr>\n",
       "            <tr>\n",
       "                        <th id=\"T_48d70064_8fc4_11e9_a528_1002b577055alevel0_row1\" class=\"row_heading level0 row1\" >10-14</th>\n",
       "                        <td id=\"T_48d70064_8fc4_11e9_a528_1002b577055arow1_col0\" class=\"data row1 col0\" >28</td>\n",
       "                        <td id=\"T_48d70064_8fc4_11e9_a528_1002b577055arow1_col1\" class=\"data row1 col1\" >$2.96</td>\n",
       "                        <td id=\"T_48d70064_8fc4_11e9_a528_1002b577055arow1_col2\" class=\"data row1 col2\" >$82.78</td>\n",
       "                        <td id=\"T_48d70064_8fc4_11e9_a528_1002b577055arow1_col3\" class=\"data row1 col3\" >$3.76</td>\n",
       "            </tr>\n",
       "            <tr>\n",
       "                        <th id=\"T_48d70064_8fc4_11e9_a528_1002b577055alevel0_row2\" class=\"row_heading level0 row2\" >15-19</th>\n",
       "                        <td id=\"T_48d70064_8fc4_11e9_a528_1002b577055arow2_col0\" class=\"data row2 col0\" >136</td>\n",
       "                        <td id=\"T_48d70064_8fc4_11e9_a528_1002b577055arow2_col1\" class=\"data row2 col1\" >$3.04</td>\n",
       "                        <td id=\"T_48d70064_8fc4_11e9_a528_1002b577055arow2_col2\" class=\"data row2 col2\" >$412.89</td>\n",
       "                        <td id=\"T_48d70064_8fc4_11e9_a528_1002b577055arow2_col3\" class=\"data row2 col3\" >$3.86</td>\n",
       "            </tr>\n",
       "            <tr>\n",
       "                        <th id=\"T_48d70064_8fc4_11e9_a528_1002b577055alevel0_row3\" class=\"row_heading level0 row3\" >20-24</th>\n",
       "                        <td id=\"T_48d70064_8fc4_11e9_a528_1002b577055arow3_col0\" class=\"data row3 col0\" >365</td>\n",
       "                        <td id=\"T_48d70064_8fc4_11e9_a528_1002b577055arow3_col1\" class=\"data row3 col1\" >$3.05</td>\n",
       "                        <td id=\"T_48d70064_8fc4_11e9_a528_1002b577055arow3_col2\" class=\"data row3 col2\" >$1,114.06</td>\n",
       "                        <td id=\"T_48d70064_8fc4_11e9_a528_1002b577055arow3_col3\" class=\"data row3 col3\" >$4.32</td>\n",
       "            </tr>\n",
       "            <tr>\n",
       "                        <th id=\"T_48d70064_8fc4_11e9_a528_1002b577055alevel0_row4\" class=\"row_heading level0 row4\" >25-29</th>\n",
       "                        <td id=\"T_48d70064_8fc4_11e9_a528_1002b577055arow4_col0\" class=\"data row4 col0\" >101</td>\n",
       "                        <td id=\"T_48d70064_8fc4_11e9_a528_1002b577055arow4_col1\" class=\"data row4 col1\" >$2.90</td>\n",
       "                        <td id=\"T_48d70064_8fc4_11e9_a528_1002b577055arow4_col2\" class=\"data row4 col2\" >$293.00</td>\n",
       "                        <td id=\"T_48d70064_8fc4_11e9_a528_1002b577055arow4_col3\" class=\"data row4 col3\" >$3.81</td>\n",
       "            </tr>\n",
       "            <tr>\n",
       "                        <th id=\"T_48d70064_8fc4_11e9_a528_1002b577055alevel0_row5\" class=\"row_heading level0 row5\" >30-34</th>\n",
       "                        <td id=\"T_48d70064_8fc4_11e9_a528_1002b577055arow5_col0\" class=\"data row5 col0\" >73</td>\n",
       "                        <td id=\"T_48d70064_8fc4_11e9_a528_1002b577055arow5_col1\" class=\"data row5 col1\" >$2.93</td>\n",
       "                        <td id=\"T_48d70064_8fc4_11e9_a528_1002b577055arow5_col2\" class=\"data row5 col2\" >$214.00</td>\n",
       "                        <td id=\"T_48d70064_8fc4_11e9_a528_1002b577055arow5_col3\" class=\"data row5 col3\" >$4.12</td>\n",
       "            </tr>\n",
       "            <tr>\n",
       "                        <th id=\"T_48d70064_8fc4_11e9_a528_1002b577055alevel0_row6\" class=\"row_heading level0 row6\" >35-39</th>\n",
       "                        <td id=\"T_48d70064_8fc4_11e9_a528_1002b577055arow6_col0\" class=\"data row6 col0\" >41</td>\n",
       "                        <td id=\"T_48d70064_8fc4_11e9_a528_1002b577055arow6_col1\" class=\"data row6 col1\" >$3.60</td>\n",
       "                        <td id=\"T_48d70064_8fc4_11e9_a528_1002b577055arow6_col2\" class=\"data row6 col2\" >$147.67</td>\n",
       "                        <td id=\"T_48d70064_8fc4_11e9_a528_1002b577055arow6_col3\" class=\"data row6 col3\" >$4.76</td>\n",
       "            </tr>\n",
       "            <tr>\n",
       "                        <th id=\"T_48d70064_8fc4_11e9_a528_1002b577055alevel0_row7\" class=\"row_heading level0 row7\" >40+</th>\n",
       "                        <td id=\"T_48d70064_8fc4_11e9_a528_1002b577055arow7_col0\" class=\"data row7 col0\" >13</td>\n",
       "                        <td id=\"T_48d70064_8fc4_11e9_a528_1002b577055arow7_col1\" class=\"data row7 col1\" >$2.94</td>\n",
       "                        <td id=\"T_48d70064_8fc4_11e9_a528_1002b577055arow7_col2\" class=\"data row7 col2\" >$38.24</td>\n",
       "                        <td id=\"T_48d70064_8fc4_11e9_a528_1002b577055arow7_col3\" class=\"data row7 col3\" >$3.19</td>\n",
       "            </tr>\n",
       "    </tbody></table>"
      ],
      "text/plain": [
       "<pandas.io.formats.style.Styler at 0x1f17dabbe10>"
      ]
     },
     "execution_count": 8,
     "metadata": {},
     "output_type": "execute_result"
    }
   ],
   "source": [
    "# Groupby the Age Bin variable then aggregate the Purchase ID count and mean of purchase prices\n",
    "purchasing_age = data.groupby('Age Bin').agg({'Purchase ID': 'count', 'Price': 'mean'})\n",
    "\n",
    "# Rename the Price column to Average Purchase Price and the Purchase ID column to Purchase Count\n",
    "purchasing_age = purchasing_age.rename(columns={'Price': 'Average Purchase Price', 'Purchase ID': 'Purchase Count'})\n",
    "\n",
    "# Create the Avg Total Purchases per Person column by grouping by SN and Age Bin, getting the aggregate sum and grouping by Age Bin and getting the mean of price\n",
    "purchasing_age['Avg Total Purchase per Person'] = data.groupby(['SN', 'Age Bin']).agg({'Price': 'sum'}).groupby('Age Bin').agg({'Price': 'mean'})\n",
    "\n",
    "# Groupby Age Bin and get the aggregated sum of price to create the Total Purchase Value column\n",
    "purchasing_age['Total Purchase Value'] = data.groupby('Age Bin').agg({'Price': 'sum'})\n",
    "\n",
    "# Reorder the columns to match the given example\n",
    "purchasing_age = purchasing_age[['Purchase Count', 'Average Purchase Price', 'Total Purchase Value', 'Avg Total Purchase per Person']]\n",
    "\n",
    "# Round all the values in the data frame to two decimal places\n",
    "purchasing_age = purchasing_age.round(2)\n",
    "\n",
    "# Format the data frame to show $ signs where appropriate\n",
    "styled_purchasing_age = purchasing_age.style.format({\n",
    "    'Average Purchase Price': '${:.2f}'.format,\n",
    "    'Total Purchase Value': '${:,.2f}'.format, \n",
    "    'Avg Total Purchase per Person': '${:.2f}'.format\n",
    "})\n",
    "\n",
    "# Display the summary table\n",
    "styled_purchasing_age"
   ]
  },
  {
   "cell_type": "markdown",
   "metadata": {},
   "source": [
    "### Top Spenders\n",
    "\n",
    "* Run basic calculations to obtain the results in the example table\n",
    "* Create a summary data frame to hold the results\n",
    "* Sort the total purchase value column in descending order\n",
    "* Optional: Give the displayed data cleaner formatting\n",
    "* Display a preview of the summary data frame"
   ]
  },
  {
   "cell_type": "code",
   "execution_count": 11,
   "metadata": {},
   "outputs": [
    {
     "data": {
      "text/html": [
       "<style  type=\"text/css\" >\n",
       "</style><table id=\"T_8c4a3bf0_8fa9_11e9_a8e9_1002b577055a\" ><thead>    <tr>        <th class=\"blank level0\" ></th>        <th class=\"col_heading level0 col0\" >Purchase Count</th>        <th class=\"col_heading level0 col1\" >Average Purchase Price</th>        <th class=\"col_heading level0 col2\" >Total Purchase Value</th>    </tr>    <tr>        <th class=\"index_name level0\" >SN</th>        <th class=\"blank\" ></th>        <th class=\"blank\" ></th>        <th class=\"blank\" ></th>    </tr></thead><tbody>\n",
       "                <tr>\n",
       "                        <th id=\"T_8c4a3bf0_8fa9_11e9_a8e9_1002b577055alevel0_row0\" class=\"row_heading level0 row0\" >Lisosia93</th>\n",
       "                        <td id=\"T_8c4a3bf0_8fa9_11e9_a8e9_1002b577055arow0_col0\" class=\"data row0 col0\" >5</td>\n",
       "                        <td id=\"T_8c4a3bf0_8fa9_11e9_a8e9_1002b577055arow0_col1\" class=\"data row0 col1\" >$3.79</td>\n",
       "                        <td id=\"T_8c4a3bf0_8fa9_11e9_a8e9_1002b577055arow0_col2\" class=\"data row0 col2\" >$18.96</td>\n",
       "            </tr>\n",
       "            <tr>\n",
       "                        <th id=\"T_8c4a3bf0_8fa9_11e9_a8e9_1002b577055alevel0_row1\" class=\"row_heading level0 row1\" >Idastidru52</th>\n",
       "                        <td id=\"T_8c4a3bf0_8fa9_11e9_a8e9_1002b577055arow1_col0\" class=\"data row1 col0\" >4</td>\n",
       "                        <td id=\"T_8c4a3bf0_8fa9_11e9_a8e9_1002b577055arow1_col1\" class=\"data row1 col1\" >$3.86</td>\n",
       "                        <td id=\"T_8c4a3bf0_8fa9_11e9_a8e9_1002b577055arow1_col2\" class=\"data row1 col2\" >$15.45</td>\n",
       "            </tr>\n",
       "            <tr>\n",
       "                        <th id=\"T_8c4a3bf0_8fa9_11e9_a8e9_1002b577055alevel0_row2\" class=\"row_heading level0 row2\" >Chamjask73</th>\n",
       "                        <td id=\"T_8c4a3bf0_8fa9_11e9_a8e9_1002b577055arow2_col0\" class=\"data row2 col0\" >3</td>\n",
       "                        <td id=\"T_8c4a3bf0_8fa9_11e9_a8e9_1002b577055arow2_col1\" class=\"data row2 col1\" >$4.61</td>\n",
       "                        <td id=\"T_8c4a3bf0_8fa9_11e9_a8e9_1002b577055arow2_col2\" class=\"data row2 col2\" >$13.83</td>\n",
       "            </tr>\n",
       "            <tr>\n",
       "                        <th id=\"T_8c4a3bf0_8fa9_11e9_a8e9_1002b577055alevel0_row3\" class=\"row_heading level0 row3\" >Iral74</th>\n",
       "                        <td id=\"T_8c4a3bf0_8fa9_11e9_a8e9_1002b577055arow3_col0\" class=\"data row3 col0\" >4</td>\n",
       "                        <td id=\"T_8c4a3bf0_8fa9_11e9_a8e9_1002b577055arow3_col1\" class=\"data row3 col1\" >$3.40</td>\n",
       "                        <td id=\"T_8c4a3bf0_8fa9_11e9_a8e9_1002b577055arow3_col2\" class=\"data row3 col2\" >$13.62</td>\n",
       "            </tr>\n",
       "            <tr>\n",
       "                        <th id=\"T_8c4a3bf0_8fa9_11e9_a8e9_1002b577055alevel0_row4\" class=\"row_heading level0 row4\" >Iskadarya95</th>\n",
       "                        <td id=\"T_8c4a3bf0_8fa9_11e9_a8e9_1002b577055arow4_col0\" class=\"data row4 col0\" >3</td>\n",
       "                        <td id=\"T_8c4a3bf0_8fa9_11e9_a8e9_1002b577055arow4_col1\" class=\"data row4 col1\" >$4.37</td>\n",
       "                        <td id=\"T_8c4a3bf0_8fa9_11e9_a8e9_1002b577055arow4_col2\" class=\"data row4 col2\" >$13.10</td>\n",
       "            </tr>\n",
       "    </tbody></table>"
      ],
      "text/plain": [
       "<pandas.io.formats.style.Styler at 0x2480fa77240>"
      ]
     },
     "execution_count": 11,
     "metadata": {},
     "output_type": "execute_result"
    }
   ],
   "source": [
    "# Groupby SN variable and summarise Purchase ID counts and Price means\n",
    "top_spenders = data.groupby('SN').agg({'Purchase ID': 'count', 'Price': 'mean'})\n",
    "\n",
    "# Groupby SN variable and get the aggregated price sums then save as a new column called Total Purchase Value\n",
    "top_spenders['Total Purchase Value'] = data.groupby('SN').agg({'Price': 'sum'})\n",
    "\n",
    "# Rename the column labels to match the example\n",
    "top_spenders = top_spenders.rename(columns={'Purchase ID': 'Purchase Count', 'Price': 'Average Purchase Price'})\n",
    "\n",
    "# Filter values above 13 Total Purchase Value and then sort the dataframe based on descending Total Purchase Value\n",
    "top_spenders = top_spenders[top_spenders['Total Purchase Value'] > 13].sort_values('Total Purchase Value', ascending=False)\n",
    "\n",
    "# Round the data frame to two decimal places\n",
    "top_spenders = top_spenders.round(2)\n",
    "\n",
    "# Format the Average Purchase Price and Total Purchase Value columns to include $ signs\n",
    "styled_spenders = top_spenders.style.format({\n",
    "    'Average Purchase Price': '${:.2f}'.format,\n",
    "    'Total Purchase Value': '${:.2f}'.format\n",
    "})\n",
    "\n",
    "# Display the summary table\n",
    "styled_spenders"
   ]
  },
  {
   "cell_type": "markdown",
   "metadata": {},
   "source": [
    "### Most Popular Items\n",
    "\n",
    "* Retrieve the Item ID, Item Name and Item Price columns\n",
    "* Group by Item ID and Item Name then perform calculations to obtain Purchase Count, Item Price and Total Purchase Value\n",
    "* Create a summary data frame to hold the results\n",
    "* Sort the purchase count column in descending order\n",
    "* Optional: Give the displayed data cleaner formatting\n",
    "* Display a preview of the summary data frame"
   ]
  },
  {
   "cell_type": "code",
   "execution_count": 11,
   "metadata": {},
   "outputs": [
    {
     "data": {
      "text/html": [
       "<style  type=\"text/css\" >\n",
       "</style><table id=\"T_76ea2c1a_8fc4_11e9_a8a0_1002b577055a\" ><thead>    <tr>        <th class=\"blank\" ></th>        <th class=\"blank level0\" ></th>        <th class=\"col_heading level0 col0\" >Purchase Count</th>        <th class=\"col_heading level0 col1\" >Average Purchase Price</th>        <th class=\"col_heading level0 col2\" >Total Purchase Value</th>    </tr>    <tr>        <th class=\"index_name level0\" >Item ID</th>        <th class=\"index_name level1\" >Item Name</th>        <th class=\"blank\" ></th>        <th class=\"blank\" ></th>        <th class=\"blank\" ></th>    </tr></thead><tbody>\n",
       "                <tr>\n",
       "                        <th id=\"T_76ea2c1a_8fc4_11e9_a8a0_1002b577055alevel0_row0\" class=\"row_heading level0 row0\" >178</th>\n",
       "                        <th id=\"T_76ea2c1a_8fc4_11e9_a8a0_1002b577055alevel1_row0\" class=\"row_heading level1 row0\" >Oathbreaker, Last Hope of the Breaking Storm</th>\n",
       "                        <td id=\"T_76ea2c1a_8fc4_11e9_a8a0_1002b577055arow0_col0\" class=\"data row0 col0\" >12</td>\n",
       "                        <td id=\"T_76ea2c1a_8fc4_11e9_a8a0_1002b577055arow0_col1\" class=\"data row0 col1\" >$4.23</td>\n",
       "                        <td id=\"T_76ea2c1a_8fc4_11e9_a8a0_1002b577055arow0_col2\" class=\"data row0 col2\" >$50.76</td>\n",
       "            </tr>\n",
       "            <tr>\n",
       "                        <th id=\"T_76ea2c1a_8fc4_11e9_a8a0_1002b577055alevel0_row1\" class=\"row_heading level0 row1\" >82</th>\n",
       "                        <th id=\"T_76ea2c1a_8fc4_11e9_a8a0_1002b577055alevel1_row1\" class=\"row_heading level1 row1\" >Nirvana</th>\n",
       "                        <td id=\"T_76ea2c1a_8fc4_11e9_a8a0_1002b577055arow1_col0\" class=\"data row1 col0\" >9</td>\n",
       "                        <td id=\"T_76ea2c1a_8fc4_11e9_a8a0_1002b577055arow1_col1\" class=\"data row1 col1\" >$4.90</td>\n",
       "                        <td id=\"T_76ea2c1a_8fc4_11e9_a8a0_1002b577055arow1_col2\" class=\"data row1 col2\" >$44.10</td>\n",
       "            </tr>\n",
       "            <tr>\n",
       "                        <th id=\"T_76ea2c1a_8fc4_11e9_a8a0_1002b577055alevel0_row2\" class=\"row_heading level0 row2\" >108</th>\n",
       "                        <th id=\"T_76ea2c1a_8fc4_11e9_a8a0_1002b577055alevel1_row2\" class=\"row_heading level1 row2\" >Extraction, Quickblade Of Trembling Hands</th>\n",
       "                        <td id=\"T_76ea2c1a_8fc4_11e9_a8a0_1002b577055arow2_col0\" class=\"data row2 col0\" >9</td>\n",
       "                        <td id=\"T_76ea2c1a_8fc4_11e9_a8a0_1002b577055arow2_col1\" class=\"data row2 col1\" >$3.53</td>\n",
       "                        <td id=\"T_76ea2c1a_8fc4_11e9_a8a0_1002b577055arow2_col2\" class=\"data row2 col2\" >$31.77</td>\n",
       "            </tr>\n",
       "            <tr>\n",
       "                        <th id=\"T_76ea2c1a_8fc4_11e9_a8a0_1002b577055alevel0_row3\" class=\"row_heading level0 row3\" >145</th>\n",
       "                        <th id=\"T_76ea2c1a_8fc4_11e9_a8a0_1002b577055alevel1_row3\" class=\"row_heading level1 row3\" >Fiery Glass Crusader</th>\n",
       "                        <td id=\"T_76ea2c1a_8fc4_11e9_a8a0_1002b577055arow3_col0\" class=\"data row3 col0\" >9</td>\n",
       "                        <td id=\"T_76ea2c1a_8fc4_11e9_a8a0_1002b577055arow3_col1\" class=\"data row3 col1\" >$4.58</td>\n",
       "                        <td id=\"T_76ea2c1a_8fc4_11e9_a8a0_1002b577055arow3_col2\" class=\"data row3 col2\" >$41.22</td>\n",
       "            </tr>\n",
       "            <tr>\n",
       "                        <th id=\"T_76ea2c1a_8fc4_11e9_a8a0_1002b577055alevel0_row4\" class=\"row_heading level0 row4\" >19</th>\n",
       "                        <th id=\"T_76ea2c1a_8fc4_11e9_a8a0_1002b577055alevel1_row4\" class=\"row_heading level1 row4\" >Pursuit, Cudgel of Necromancy</th>\n",
       "                        <td id=\"T_76ea2c1a_8fc4_11e9_a8a0_1002b577055arow4_col0\" class=\"data row4 col0\" >8</td>\n",
       "                        <td id=\"T_76ea2c1a_8fc4_11e9_a8a0_1002b577055arow4_col1\" class=\"data row4 col1\" >$1.02</td>\n",
       "                        <td id=\"T_76ea2c1a_8fc4_11e9_a8a0_1002b577055arow4_col2\" class=\"data row4 col2\" >$8.16</td>\n",
       "            </tr>\n",
       "            <tr>\n",
       "                        <th id=\"T_76ea2c1a_8fc4_11e9_a8a0_1002b577055alevel0_row5\" class=\"row_heading level0 row5\" >34</th>\n",
       "                        <th id=\"T_76ea2c1a_8fc4_11e9_a8a0_1002b577055alevel1_row5\" class=\"row_heading level1 row5\" >Retribution Axe</th>\n",
       "                        <td id=\"T_76ea2c1a_8fc4_11e9_a8a0_1002b577055arow5_col0\" class=\"data row5 col0\" >8</td>\n",
       "                        <td id=\"T_76ea2c1a_8fc4_11e9_a8a0_1002b577055arow5_col1\" class=\"data row5 col1\" >$2.22</td>\n",
       "                        <td id=\"T_76ea2c1a_8fc4_11e9_a8a0_1002b577055arow5_col2\" class=\"data row5 col2\" >$17.76</td>\n",
       "            </tr>\n",
       "            <tr>\n",
       "                        <th id=\"T_76ea2c1a_8fc4_11e9_a8a0_1002b577055alevel0_row6\" class=\"row_heading level0 row6\" >37</th>\n",
       "                        <th id=\"T_76ea2c1a_8fc4_11e9_a8a0_1002b577055alevel1_row6\" class=\"row_heading level1 row6\" >Shadow Strike, Glory of Ending Hope</th>\n",
       "                        <td id=\"T_76ea2c1a_8fc4_11e9_a8a0_1002b577055arow6_col0\" class=\"data row6 col0\" >8</td>\n",
       "                        <td id=\"T_76ea2c1a_8fc4_11e9_a8a0_1002b577055arow6_col1\" class=\"data row6 col1\" >$3.16</td>\n",
       "                        <td id=\"T_76ea2c1a_8fc4_11e9_a8a0_1002b577055arow6_col2\" class=\"data row6 col2\" >$25.28</td>\n",
       "            </tr>\n",
       "            <tr>\n",
       "                        <th id=\"T_76ea2c1a_8fc4_11e9_a8a0_1002b577055alevel0_row7\" class=\"row_heading level0 row7\" >59</th>\n",
       "                        <th id=\"T_76ea2c1a_8fc4_11e9_a8a0_1002b577055alevel1_row7\" class=\"row_heading level1 row7\" >Lightning, Etcher of the King</th>\n",
       "                        <td id=\"T_76ea2c1a_8fc4_11e9_a8a0_1002b577055arow7_col0\" class=\"data row7 col0\" >8</td>\n",
       "                        <td id=\"T_76ea2c1a_8fc4_11e9_a8a0_1002b577055arow7_col1\" class=\"data row7 col1\" >$4.23</td>\n",
       "                        <td id=\"T_76ea2c1a_8fc4_11e9_a8a0_1002b577055arow7_col2\" class=\"data row7 col2\" >$33.84</td>\n",
       "            </tr>\n",
       "            <tr>\n",
       "                        <th id=\"T_76ea2c1a_8fc4_11e9_a8a0_1002b577055alevel0_row8\" class=\"row_heading level0 row8\" >60</th>\n",
       "                        <th id=\"T_76ea2c1a_8fc4_11e9_a8a0_1002b577055alevel1_row8\" class=\"row_heading level1 row8\" >Wolf</th>\n",
       "                        <td id=\"T_76ea2c1a_8fc4_11e9_a8a0_1002b577055arow8_col0\" class=\"data row8 col0\" >8</td>\n",
       "                        <td id=\"T_76ea2c1a_8fc4_11e9_a8a0_1002b577055arow8_col1\" class=\"data row8 col1\" >$3.54</td>\n",
       "                        <td id=\"T_76ea2c1a_8fc4_11e9_a8a0_1002b577055arow8_col2\" class=\"data row8 col2\" >$28.32</td>\n",
       "            </tr>\n",
       "            <tr>\n",
       "                        <th id=\"T_76ea2c1a_8fc4_11e9_a8a0_1002b577055alevel0_row9\" class=\"row_heading level0 row9\" >72</th>\n",
       "                        <th id=\"T_76ea2c1a_8fc4_11e9_a8a0_1002b577055alevel1_row9\" class=\"row_heading level1 row9\" >Winter's Bite</th>\n",
       "                        <td id=\"T_76ea2c1a_8fc4_11e9_a8a0_1002b577055arow9_col0\" class=\"data row9 col0\" >8</td>\n",
       "                        <td id=\"T_76ea2c1a_8fc4_11e9_a8a0_1002b577055arow9_col1\" class=\"data row9 col1\" >$3.77</td>\n",
       "                        <td id=\"T_76ea2c1a_8fc4_11e9_a8a0_1002b577055arow9_col2\" class=\"data row9 col2\" >$30.16</td>\n",
       "            </tr>\n",
       "            <tr>\n",
       "                        <th id=\"T_76ea2c1a_8fc4_11e9_a8a0_1002b577055alevel0_row10\" class=\"row_heading level0 row10\" >75</th>\n",
       "                        <th id=\"T_76ea2c1a_8fc4_11e9_a8a0_1002b577055alevel1_row10\" class=\"row_heading level1 row10\" >Brutality Ivory Warmace</th>\n",
       "                        <td id=\"T_76ea2c1a_8fc4_11e9_a8a0_1002b577055arow10_col0\" class=\"data row10 col0\" >8</td>\n",
       "                        <td id=\"T_76ea2c1a_8fc4_11e9_a8a0_1002b577055arow10_col1\" class=\"data row10 col1\" >$2.42</td>\n",
       "                        <td id=\"T_76ea2c1a_8fc4_11e9_a8a0_1002b577055arow10_col2\" class=\"data row10 col2\" >$19.36</td>\n",
       "            </tr>\n",
       "            <tr>\n",
       "                        <th id=\"T_76ea2c1a_8fc4_11e9_a8a0_1002b577055alevel0_row11\" class=\"row_heading level0 row11\" >92</th>\n",
       "                        <th id=\"T_76ea2c1a_8fc4_11e9_a8a0_1002b577055alevel1_row11\" class=\"row_heading level1 row11\" >Final Critic</th>\n",
       "                        <td id=\"T_76ea2c1a_8fc4_11e9_a8a0_1002b577055arow11_col0\" class=\"data row11 col0\" >8</td>\n",
       "                        <td id=\"T_76ea2c1a_8fc4_11e9_a8a0_1002b577055arow11_col1\" class=\"data row11 col1\" >$4.88</td>\n",
       "                        <td id=\"T_76ea2c1a_8fc4_11e9_a8a0_1002b577055arow11_col2\" class=\"data row11 col2\" >$39.04</td>\n",
       "            </tr>\n",
       "            <tr>\n",
       "                        <th id=\"T_76ea2c1a_8fc4_11e9_a8a0_1002b577055alevel0_row12\" class=\"row_heading level0 row12\" >103</th>\n",
       "                        <th id=\"T_76ea2c1a_8fc4_11e9_a8a0_1002b577055alevel1_row12\" class=\"row_heading level1 row12\" >Singed Scalpel</th>\n",
       "                        <td id=\"T_76ea2c1a_8fc4_11e9_a8a0_1002b577055arow12_col0\" class=\"data row12 col0\" >8</td>\n",
       "                        <td id=\"T_76ea2c1a_8fc4_11e9_a8a0_1002b577055arow12_col1\" class=\"data row12 col1\" >$4.35</td>\n",
       "                        <td id=\"T_76ea2c1a_8fc4_11e9_a8a0_1002b577055arow12_col2\" class=\"data row12 col2\" >$34.80</td>\n",
       "            </tr>\n",
       "    </tbody></table>"
      ],
      "text/plain": [
       "<pandas.io.formats.style.Styler at 0x1f17da2ac18>"
      ]
     },
     "execution_count": 11,
     "metadata": {},
     "output_type": "execute_result"
    }
   ],
   "source": [
    "# Groupby Item ID and Item Name then summarise the Purchase ID and Price columns to represent counts and averages\n",
    "popular_items = data.groupby(['Item ID', 'Item Name']).agg({'Purchase ID': 'count', 'Price': 'mean'})\n",
    "\n",
    "# Groubpy Item ID and Item Name and summarise to get the sum of Price values then save in a new column named Total Purchase Value\n",
    "popular_items['Total Purchase Value'] = data.groupby(['Item ID', 'Item Name']).agg({'Price': 'sum'})\n",
    "\n",
    "# Rename the column labels to match the example given\n",
    "popular_items = popular_items.rename(columns={'Purchase ID': 'Purchase Count', 'Price': 'Average Purchase Price'})\n",
    "\n",
    "# Filter the Purchase Count column to greater than or equal to 8 and sort the data frame descending based on Purchase Count\n",
    "popular_items = popular_items[popular_items['Purchase Count'] >= 8].sort_values('Purchase Count', ascending=False)\n",
    "\n",
    "# Round the data frame values to two decimal places\n",
    "popular_items = popular_items.round(2)\n",
    "\n",
    "# Format the Average Purchase Price and Total Purchase Value columns to include $ signs\n",
    "styled_popular_items = popular_items.style.format({\n",
    "    'Average Purchase Price': '${:.2f}'.format, \n",
    "    'Total Purchase Value': '${:.2f}'.format\n",
    "})\n",
    "\n",
    "# Display the summary table\n",
    "styled_popular_items"
   ]
  },
  {
   "cell_type": "markdown",
   "metadata": {},
   "source": [
    "### Most Profitable Items\n",
    "\n",
    "* Sort the above table by total purchase value in descending order\n",
    "* Optional: Give the displayed data cleaner formatting\n",
    "* Display a preview of the data frame"
   ]
  },
  {
   "cell_type": "code",
   "execution_count": 12,
   "metadata": {},
   "outputs": [
    {
     "data": {
      "text/html": [
       "<style  type=\"text/css\" >\n",
       "</style><table id=\"T_9bae84b6_8fc4_11e9_98d0_1002b577055a\" ><thead>    <tr>        <th class=\"blank\" ></th>        <th class=\"blank level0\" ></th>        <th class=\"col_heading level0 col0\" >Purchase Count</th>        <th class=\"col_heading level0 col1\" >Average Purchase Price</th>        <th class=\"col_heading level0 col2\" >Total Purchase Value</th>    </tr>    <tr>        <th class=\"index_name level0\" >Item ID</th>        <th class=\"index_name level1\" >Item Name</th>        <th class=\"blank\" ></th>        <th class=\"blank\" ></th>        <th class=\"blank\" ></th>    </tr></thead><tbody>\n",
       "                <tr>\n",
       "                        <th id=\"T_9bae84b6_8fc4_11e9_98d0_1002b577055alevel0_row0\" class=\"row_heading level0 row0\" >178</th>\n",
       "                        <th id=\"T_9bae84b6_8fc4_11e9_98d0_1002b577055alevel1_row0\" class=\"row_heading level1 row0\" >Oathbreaker, Last Hope of the Breaking Storm</th>\n",
       "                        <td id=\"T_9bae84b6_8fc4_11e9_98d0_1002b577055arow0_col0\" class=\"data row0 col0\" >12</td>\n",
       "                        <td id=\"T_9bae84b6_8fc4_11e9_98d0_1002b577055arow0_col1\" class=\"data row0 col1\" >$4.23</td>\n",
       "                        <td id=\"T_9bae84b6_8fc4_11e9_98d0_1002b577055arow0_col2\" class=\"data row0 col2\" >$50.76</td>\n",
       "            </tr>\n",
       "            <tr>\n",
       "                        <th id=\"T_9bae84b6_8fc4_11e9_98d0_1002b577055alevel0_row1\" class=\"row_heading level0 row1\" >82</th>\n",
       "                        <th id=\"T_9bae84b6_8fc4_11e9_98d0_1002b577055alevel1_row1\" class=\"row_heading level1 row1\" >Nirvana</th>\n",
       "                        <td id=\"T_9bae84b6_8fc4_11e9_98d0_1002b577055arow1_col0\" class=\"data row1 col0\" >9</td>\n",
       "                        <td id=\"T_9bae84b6_8fc4_11e9_98d0_1002b577055arow1_col1\" class=\"data row1 col1\" >$4.90</td>\n",
       "                        <td id=\"T_9bae84b6_8fc4_11e9_98d0_1002b577055arow1_col2\" class=\"data row1 col2\" >$44.10</td>\n",
       "            </tr>\n",
       "            <tr>\n",
       "                        <th id=\"T_9bae84b6_8fc4_11e9_98d0_1002b577055alevel0_row2\" class=\"row_heading level0 row2\" >145</th>\n",
       "                        <th id=\"T_9bae84b6_8fc4_11e9_98d0_1002b577055alevel1_row2\" class=\"row_heading level1 row2\" >Fiery Glass Crusader</th>\n",
       "                        <td id=\"T_9bae84b6_8fc4_11e9_98d0_1002b577055arow2_col0\" class=\"data row2 col0\" >9</td>\n",
       "                        <td id=\"T_9bae84b6_8fc4_11e9_98d0_1002b577055arow2_col1\" class=\"data row2 col1\" >$4.58</td>\n",
       "                        <td id=\"T_9bae84b6_8fc4_11e9_98d0_1002b577055arow2_col2\" class=\"data row2 col2\" >$41.22</td>\n",
       "            </tr>\n",
       "            <tr>\n",
       "                        <th id=\"T_9bae84b6_8fc4_11e9_98d0_1002b577055alevel0_row3\" class=\"row_heading level0 row3\" >92</th>\n",
       "                        <th id=\"T_9bae84b6_8fc4_11e9_98d0_1002b577055alevel1_row3\" class=\"row_heading level1 row3\" >Final Critic</th>\n",
       "                        <td id=\"T_9bae84b6_8fc4_11e9_98d0_1002b577055arow3_col0\" class=\"data row3 col0\" >8</td>\n",
       "                        <td id=\"T_9bae84b6_8fc4_11e9_98d0_1002b577055arow3_col1\" class=\"data row3 col1\" >$4.88</td>\n",
       "                        <td id=\"T_9bae84b6_8fc4_11e9_98d0_1002b577055arow3_col2\" class=\"data row3 col2\" >$39.04</td>\n",
       "            </tr>\n",
       "            <tr>\n",
       "                        <th id=\"T_9bae84b6_8fc4_11e9_98d0_1002b577055alevel0_row4\" class=\"row_heading level0 row4\" >103</th>\n",
       "                        <th id=\"T_9bae84b6_8fc4_11e9_98d0_1002b577055alevel1_row4\" class=\"row_heading level1 row4\" >Singed Scalpel</th>\n",
       "                        <td id=\"T_9bae84b6_8fc4_11e9_98d0_1002b577055arow4_col0\" class=\"data row4 col0\" >8</td>\n",
       "                        <td id=\"T_9bae84b6_8fc4_11e9_98d0_1002b577055arow4_col1\" class=\"data row4 col1\" >$4.35</td>\n",
       "                        <td id=\"T_9bae84b6_8fc4_11e9_98d0_1002b577055arow4_col2\" class=\"data row4 col2\" >$34.80</td>\n",
       "            </tr>\n",
       "    </tbody></table>"
      ],
      "text/plain": [
       "<pandas.io.formats.style.Styler at 0x1f17dd12eb8>"
      ]
     },
     "execution_count": 12,
     "metadata": {},
     "output_type": "execute_result"
    }
   ],
   "source": [
    "# Begin halfway through the previous code chunk and instead this time filter Total Purchase Value for greater than or equal\n",
    "# to 34.80 and descending sort the data frame based on the Total Purchase Value column\n",
    "popular_items_sorted = popular_items[popular_items['Total Purchase Value'] >= 34.80].sort_values('Total Purchase Value', ascending=False)\n",
    "\n",
    "# Round the data frame to two decimal places\n",
    "popular_items_sorted = popular_items_sorted.round(2)\n",
    "\n",
    "# Format the Average Purchase Price and Total Purchase Value columns to include $ signs\n",
    "styled_popular_items_sorted = popular_items_sorted.style.format({\n",
    "    'Average Purchase Price': '${:.2f}'.format, \n",
    "    'Total Purchase Value': '${:,.2f}'.format\n",
    "})\n",
    "\n",
    "# Display the summary table\n",
    "styled_popular_items_sorted"
   ]
  },
  {
   "cell_type": "code",
   "execution_count": null,
   "metadata": {},
   "outputs": [],
   "source": []
  }
 ],
 "metadata": {
  "kernelspec": {
   "display_name": "Python 3",
   "language": "python",
   "name": "python3"
  },
  "language_info": {
   "codemirror_mode": {
    "name": "ipython",
    "version": 3
   },
   "file_extension": ".py",
   "mimetype": "text/x-python",
   "name": "python",
   "nbconvert_exporter": "python",
   "pygments_lexer": "ipython3",
   "version": "3.7.3"
  }
 },
 "nbformat": 4,
 "nbformat_minor": 2
}
