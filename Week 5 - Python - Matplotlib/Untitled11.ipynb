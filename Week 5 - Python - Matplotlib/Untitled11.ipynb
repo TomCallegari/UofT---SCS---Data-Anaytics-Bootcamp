{
 "cells": [
  {
   "cell_type": "markdown",
   "metadata": {},
   "source": [
    "### Types"
   ]
  },
  {
   "cell_type": "code",
   "execution_count": 2,
   "metadata": {},
   "outputs": [
    {
     "data": {
      "text/plain": [
       "(str, int)"
      ]
     },
     "execution_count": 2,
     "metadata": {},
     "output_type": "execute_result"
    }
   ],
   "source": [
    "temp = str(32)\n",
    "temp_1 = 5\n",
    "type(temp), type(temp_1)"
   ]
  },
  {
   "cell_type": "markdown",
   "metadata": {},
   "source": [
    "### Lists"
   ]
  },
  {
   "cell_type": "code",
   "execution_count": 16,
   "metadata": {},
   "outputs": [
    {
     "data": {
      "text/plain": [
       "54"
      ]
     },
     "execution_count": 16,
     "metadata": {},
     "output_type": "execute_result"
    }
   ],
   "source": [
    "list_temp = ['Hi', 'Hello', 'apple', [32, 54]]\n",
    "list_copy = list_temp.copy()\n",
    "list_copy[1] = 'yo'\n",
    "list_temp[1], list_temp, list_copy\n",
    "list_temp[3][1]"
   ]
  },
  {
   "cell_type": "markdown",
   "metadata": {},
   "source": [
    "### Dictionaries"
   ]
  },
  {
   "cell_type": "code",
   "execution_count": 20,
   "metadata": {},
   "outputs": [
    {
     "data": {
      "text/plain": [
       "(9, 'data science')"
      ]
     },
     "execution_count": 20,
     "metadata": {},
     "output_type": "execute_result"
    }
   ],
   "source": [
    "sample_dict = {\n",
    "    'thisKey': 'someValue', 'space key': \n",
    "    'i dont care about this value'}\n",
    "sample_dict['thisKey']\n",
    "sample_dict_1 = {\n",
    "    'name': 'Tom Callegari',\n",
    "    'age': 36,\n",
    "    'hobbies': ['programming', 'data science', 'strategy games'],\n",
    "    'wakeup': {'mon': 8, 'tuesday': 9, 'wednesday': 8}\n",
    "}\n",
    "sample_dict_1['wakeup']['tuesday'], sample_dict_1['hobbies'][1]"
   ]
  },
  {
   "cell_type": "markdown",
   "metadata": {},
   "source": [
    "### Loops"
   ]
  },
  {
   "cell_type": "code",
   "execution_count": 24,
   "metadata": {},
   "outputs": [
    {
     "name": "stdout",
     "output_type": "stream",
     "text": [
      "H\n",
      "e\n",
      "l\n",
      "l\n",
      "o\n",
      ",\n",
      " \n",
      "'\n",
      " \n",
      "m\n",
      "y\n",
      " \n",
      "n\n",
      "a\n",
      "m\n",
      "e\n",
      " \n",
      "i\n",
      "s\n",
      "Hi\n",
      "hello\n",
      "[32, 54]\n"
     ]
    }
   ],
   "source": [
    "sample_string = 'Hello, \\' my name is'\n",
    "for x in sample_string:\n",
    "    print(x)\n",
    "    \n",
    "list_temp = ['Hi', 'hello', [32, 54]]\n",
    "for x in list_temp:\n",
    "    print(x)"
   ]
  },
  {
   "cell_type": "code",
   "execution_count": 28,
   "metadata": {},
   "outputs": [
    {
     "name": "stdout",
     "output_type": "stream",
     "text": [
      "1\n",
      "4\n",
      "3\n",
      "5\n",
      "2\n",
      "8\n",
      "8\n",
      "3\n",
      "9\n"
     ]
    }
   ],
   "source": [
    "list_of_lists = [[1, 4, 3], [5, 2, 8], [8, 3, 9]]\n",
    "for x in list_of_lists:\n",
    "    for y in x:\n",
    "        print(y)"
   ]
  },
  {
   "cell_type": "markdown",
   "metadata": {},
   "source": [
    "### Functions"
   ]
  },
  {
   "cell_type": "code",
   "execution_count": null,
   "metadata": {},
   "outputs": [],
   "source": []
  },
  {
   "cell_type": "markdown",
   "metadata": {},
   "source": [
    "### List Comprehensions"
   ]
  },
  {
   "cell_type": "code",
   "execution_count": null,
   "metadata": {},
   "outputs": [],
   "source": []
  }
 ],
 "metadata": {
  "kernelspec": {
   "display_name": "Python 3",
   "language": "python",
   "name": "python3"
  },
  "language_info": {
   "codemirror_mode": {
    "name": "ipython",
    "version": 3
   },
   "file_extension": ".py",
   "mimetype": "text/x-python",
   "name": "python",
   "nbconvert_exporter": "python",
   "pygments_lexer": "ipython3",
   "version": "3.7.3"
  }
 },
 "nbformat": 4,
 "nbformat_minor": 2
}
