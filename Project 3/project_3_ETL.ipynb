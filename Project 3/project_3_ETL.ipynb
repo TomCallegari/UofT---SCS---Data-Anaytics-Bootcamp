{
 "cells": [
  {
   "cell_type": "code",
   "execution_count": 1,
   "metadata": {},
   "outputs": [],
   "source": [
    "import pandas as pd\n",
    "import matplotlib.pyplot as plt"
   ]
  },
  {
   "cell_type": "markdown",
   "metadata": {},
   "source": [
    "## Population"
   ]
  },
  {
   "cell_type": "code",
   "execution_count": 2,
   "metadata": {},
   "outputs": [],
   "source": [
    "pop_raw = pd.read_csv('world_populations.csv')"
   ]
  },
  {
   "cell_type": "code",
   "execution_count": 3,
   "metadata": {},
   "outputs": [],
   "source": [
    "population = pop_raw[['Area Code', 'Area', 'Year', 'Value']]\n",
    "population = population.rename(columns={'Value': 'Population'})"
   ]
  },
  {
   "cell_type": "code",
   "execution_count": 4,
   "metadata": {},
   "outputs": [
    {
     "data": {
      "text/html": [
       "<div>\n",
       "<style scoped>\n",
       "    .dataframe tbody tr th:only-of-type {\n",
       "        vertical-align: middle;\n",
       "    }\n",
       "\n",
       "    .dataframe tbody tr th {\n",
       "        vertical-align: top;\n",
       "    }\n",
       "\n",
       "    .dataframe thead th {\n",
       "        text-align: right;\n",
       "    }\n",
       "</style>\n",
       "<table border=\"1\" class=\"dataframe\">\n",
       "  <thead>\n",
       "    <tr style=\"text-align: right;\">\n",
       "      <th></th>\n",
       "      <th>Area Code</th>\n",
       "      <th>Area</th>\n",
       "      <th>Year</th>\n",
       "      <th>Population</th>\n",
       "    </tr>\n",
       "  </thead>\n",
       "  <tbody>\n",
       "    <tr>\n",
       "      <th>0</th>\n",
       "      <td>2</td>\n",
       "      <td>Afghanistan</td>\n",
       "      <td>1950</td>\n",
       "      <td>7752.118</td>\n",
       "    </tr>\n",
       "    <tr>\n",
       "      <th>1</th>\n",
       "      <td>2</td>\n",
       "      <td>Afghanistan</td>\n",
       "      <td>1951</td>\n",
       "      <td>7839.510</td>\n",
       "    </tr>\n",
       "    <tr>\n",
       "      <th>2</th>\n",
       "      <td>2</td>\n",
       "      <td>Afghanistan</td>\n",
       "      <td>1952</td>\n",
       "      <td>7934.980</td>\n",
       "    </tr>\n",
       "    <tr>\n",
       "      <th>3</th>\n",
       "      <td>2</td>\n",
       "      <td>Afghanistan</td>\n",
       "      <td>1953</td>\n",
       "      <td>8038.596</td>\n",
       "    </tr>\n",
       "    <tr>\n",
       "      <th>4</th>\n",
       "      <td>2</td>\n",
       "      <td>Afghanistan</td>\n",
       "      <td>1954</td>\n",
       "      <td>8150.447</td>\n",
       "    </tr>\n",
       "    <tr>\n",
       "      <th>5</th>\n",
       "      <td>2</td>\n",
       "      <td>Afghanistan</td>\n",
       "      <td>1955</td>\n",
       "      <td>8270.581</td>\n",
       "    </tr>\n",
       "    <tr>\n",
       "      <th>6</th>\n",
       "      <td>2</td>\n",
       "      <td>Afghanistan</td>\n",
       "      <td>1956</td>\n",
       "      <td>8399.030</td>\n",
       "    </tr>\n",
       "    <tr>\n",
       "      <th>7</th>\n",
       "      <td>2</td>\n",
       "      <td>Afghanistan</td>\n",
       "      <td>1957</td>\n",
       "      <td>8535.807</td>\n",
       "    </tr>\n",
       "    <tr>\n",
       "      <th>8</th>\n",
       "      <td>2</td>\n",
       "      <td>Afghanistan</td>\n",
       "      <td>1958</td>\n",
       "      <td>8680.946</td>\n",
       "    </tr>\n",
       "    <tr>\n",
       "      <th>9</th>\n",
       "      <td>2</td>\n",
       "      <td>Afghanistan</td>\n",
       "      <td>1959</td>\n",
       "      <td>8834.445</td>\n",
       "    </tr>\n",
       "  </tbody>\n",
       "</table>\n",
       "</div>"
      ],
      "text/plain": [
       "   Area Code         Area  Year  Population\n",
       "0          2  Afghanistan  1950    7752.118\n",
       "1          2  Afghanistan  1951    7839.510\n",
       "2          2  Afghanistan  1952    7934.980\n",
       "3          2  Afghanistan  1953    8038.596\n",
       "4          2  Afghanistan  1954    8150.447\n",
       "5          2  Afghanistan  1955    8270.581\n",
       "6          2  Afghanistan  1956    8399.030\n",
       "7          2  Afghanistan  1957    8535.807\n",
       "8          2  Afghanistan  1958    8680.946\n",
       "9          2  Afghanistan  1959    8834.445"
      ]
     },
     "execution_count": 4,
     "metadata": {},
     "output_type": "execute_result"
    }
   ],
   "source": [
    "population.head(10)"
   ]
  },
  {
   "cell_type": "code",
   "execution_count": 5,
   "metadata": {},
   "outputs": [
    {
     "name": "stdout",
     "output_type": "stream",
     "text": [
      "<class 'pandas.core.frame.DataFrame'>\n",
      "RangeIndex: 14867 entries, 0 to 14866\n",
      "Data columns (total 4 columns):\n",
      "Area Code     14867 non-null int64\n",
      "Area          14867 non-null object\n",
      "Year          14867 non-null int64\n",
      "Population    14867 non-null float64\n",
      "dtypes: float64(1), int64(2), object(1)\n",
      "memory usage: 464.7+ KB\n"
     ]
    }
   ],
   "source": [
    "population.info()"
   ]
  },
  {
   "cell_type": "markdown",
   "metadata": {},
   "source": [
    "## Crops"
   ]
  },
  {
   "cell_type": "code",
   "execution_count": 6,
   "metadata": {},
   "outputs": [],
   "source": [
    "crops_raw = pd.read_csv('world_crops.csv',  encoding = 'latin1')"
   ]
  },
  {
   "cell_type": "code",
   "execution_count": 7,
   "metadata": {},
   "outputs": [],
   "source": [
    "crops = crops_raw.groupby(['Area Code', 'Area', 'Element', 'Year', 'Unit']).agg({'Value': 'sum'}).reset_index().sort_values(['Area', 'Year'])\n",
    "crops = crops.rename(columns={'Element': 'Agri_Element', 'Unit': 'Agri_Unit', 'Value': 'Agri_Value'})"
   ]
  },
  {
   "cell_type": "code",
   "execution_count": 8,
   "metadata": {},
   "outputs": [
    {
     "data": {
      "text/html": [
       "<div>\n",
       "<style scoped>\n",
       "    .dataframe tbody tr th:only-of-type {\n",
       "        vertical-align: middle;\n",
       "    }\n",
       "\n",
       "    .dataframe tbody tr th {\n",
       "        vertical-align: top;\n",
       "    }\n",
       "\n",
       "    .dataframe thead th {\n",
       "        text-align: right;\n",
       "    }\n",
       "</style>\n",
       "<table border=\"1\" class=\"dataframe\">\n",
       "  <thead>\n",
       "    <tr style=\"text-align: right;\">\n",
       "      <th></th>\n",
       "      <th>Area Code</th>\n",
       "      <th>Area</th>\n",
       "      <th>Agri_Element</th>\n",
       "      <th>Year</th>\n",
       "      <th>Agri_Unit</th>\n",
       "      <th>Agri_Value</th>\n",
       "    </tr>\n",
       "  </thead>\n",
       "  <tbody>\n",
       "    <tr>\n",
       "      <th>78</th>\n",
       "      <td>2</td>\n",
       "      <td>Afghanistan</td>\n",
       "      <td>Area harvested</td>\n",
       "      <td>1961</td>\n",
       "      <td>ha</td>\n",
       "      <td>11834963.0</td>\n",
       "    </tr>\n",
       "    <tr>\n",
       "      <th>135</th>\n",
       "      <td>2</td>\n",
       "      <td>Afghanistan</td>\n",
       "      <td>Production</td>\n",
       "      <td>1961</td>\n",
       "      <td>tonnes</td>\n",
       "      <td>14449553.0</td>\n",
       "    </tr>\n",
       "    <tr>\n",
       "      <th>192</th>\n",
       "      <td>2</td>\n",
       "      <td>Afghanistan</td>\n",
       "      <td>Yield</td>\n",
       "      <td>1961</td>\n",
       "      <td>hg/ha</td>\n",
       "      <td>1787380.0</td>\n",
       "    </tr>\n",
       "    <tr>\n",
       "      <th>79</th>\n",
       "      <td>2</td>\n",
       "      <td>Afghanistan</td>\n",
       "      <td>Area harvested</td>\n",
       "      <td>1962</td>\n",
       "      <td>ha</td>\n",
       "      <td>12229684.0</td>\n",
       "    </tr>\n",
       "    <tr>\n",
       "      <th>136</th>\n",
       "      <td>2</td>\n",
       "      <td>Afghanistan</td>\n",
       "      <td>Production</td>\n",
       "      <td>1962</td>\n",
       "      <td>tonnes</td>\n",
       "      <td>14552363.0</td>\n",
       "    </tr>\n",
       "    <tr>\n",
       "      <th>193</th>\n",
       "      <td>2</td>\n",
       "      <td>Afghanistan</td>\n",
       "      <td>Yield</td>\n",
       "      <td>1962</td>\n",
       "      <td>hg/ha</td>\n",
       "      <td>1828888.0</td>\n",
       "    </tr>\n",
       "    <tr>\n",
       "      <th>80</th>\n",
       "      <td>2</td>\n",
       "      <td>Afghanistan</td>\n",
       "      <td>Area harvested</td>\n",
       "      <td>1963</td>\n",
       "      <td>ha</td>\n",
       "      <td>12358092.0</td>\n",
       "    </tr>\n",
       "    <tr>\n",
       "      <th>137</th>\n",
       "      <td>2</td>\n",
       "      <td>Afghanistan</td>\n",
       "      <td>Production</td>\n",
       "      <td>1963</td>\n",
       "      <td>tonnes</td>\n",
       "      <td>13760181.0</td>\n",
       "    </tr>\n",
       "    <tr>\n",
       "      <th>194</th>\n",
       "      <td>2</td>\n",
       "      <td>Afghanistan</td>\n",
       "      <td>Yield</td>\n",
       "      <td>1963</td>\n",
       "      <td>hg/ha</td>\n",
       "      <td>1830173.0</td>\n",
       "    </tr>\n",
       "    <tr>\n",
       "      <th>81</th>\n",
       "      <td>2</td>\n",
       "      <td>Afghanistan</td>\n",
       "      <td>Area harvested</td>\n",
       "      <td>1964</td>\n",
       "      <td>ha</td>\n",
       "      <td>12444122.0</td>\n",
       "    </tr>\n",
       "  </tbody>\n",
       "</table>\n",
       "</div>"
      ],
      "text/plain": [
       "     Area Code         Area    Agri_Element  Year Agri_Unit  Agri_Value\n",
       "78           2  Afghanistan  Area harvested  1961        ha  11834963.0\n",
       "135          2  Afghanistan      Production  1961    tonnes  14449553.0\n",
       "192          2  Afghanistan           Yield  1961     hg/ha   1787380.0\n",
       "79           2  Afghanistan  Area harvested  1962        ha  12229684.0\n",
       "136          2  Afghanistan      Production  1962    tonnes  14552363.0\n",
       "193          2  Afghanistan           Yield  1962     hg/ha   1828888.0\n",
       "80           2  Afghanistan  Area harvested  1963        ha  12358092.0\n",
       "137          2  Afghanistan      Production  1963    tonnes  13760181.0\n",
       "194          2  Afghanistan           Yield  1963     hg/ha   1830173.0\n",
       "81           2  Afghanistan  Area harvested  1964        ha  12444122.0"
      ]
     },
     "execution_count": 8,
     "metadata": {},
     "output_type": "execute_result"
    }
   ],
   "source": [
    "crops.head(10)"
   ]
  },
  {
   "cell_type": "code",
   "execution_count": 9,
   "metadata": {},
   "outputs": [
    {
     "name": "stdout",
     "output_type": "stream",
     "text": [
      "<class 'pandas.core.frame.DataFrame'>\n",
      "Int64Index: 19918 entries, 78 to 18394\n",
      "Data columns (total 6 columns):\n",
      "Area Code       19918 non-null int64\n",
      "Area            19918 non-null object\n",
      "Agri_Element    19918 non-null object\n",
      "Year            19918 non-null int64\n",
      "Agri_Unit       19918 non-null object\n",
      "Agri_Value      19918 non-null float64\n",
      "dtypes: float64(1), int64(2), object(3)\n",
      "memory usage: 1.1+ MB\n"
     ]
    }
   ],
   "source": [
    "crops.info()"
   ]
  },
  {
   "cell_type": "markdown",
   "metadata": {},
   "source": [
    "## Emissions"
   ]
  },
  {
   "cell_type": "code",
   "execution_count": 10,
   "metadata": {},
   "outputs": [],
   "source": [
    "emissions_raw = pd.read_csv('emissions.csv')"
   ]
  },
  {
   "cell_type": "code",
   "execution_count": 11,
   "metadata": {},
   "outputs": [],
   "source": [
    "emissions = emissions_raw.groupby(['Area Code', 'Area', 'Element', 'Year', 'Unit']).agg({'Value': 'sum'}).reset_index().sort_values(['Area', 'Year'])\n",
    "emissions = emissions.rename(columns={'Element': 'Emis_Element', 'Unit': 'Emis_Unit', 'Value': 'Emis_Value'})"
   ]
  },
  {
   "cell_type": "code",
   "execution_count": 12,
   "metadata": {},
   "outputs": [
    {
     "data": {
      "text/html": [
       "<div>\n",
       "<style scoped>\n",
       "    .dataframe tbody tr th:only-of-type {\n",
       "        vertical-align: middle;\n",
       "    }\n",
       "\n",
       "    .dataframe tbody tr th {\n",
       "        vertical-align: top;\n",
       "    }\n",
       "\n",
       "    .dataframe thead th {\n",
       "        text-align: right;\n",
       "    }\n",
       "</style>\n",
       "<table border=\"1\" class=\"dataframe\">\n",
       "  <thead>\n",
       "    <tr style=\"text-align: right;\">\n",
       "      <th></th>\n",
       "      <th>Area Code</th>\n",
       "      <th>Area</th>\n",
       "      <th>Emis_Element</th>\n",
       "      <th>Year</th>\n",
       "      <th>Emis_Unit</th>\n",
       "      <th>Emis_Value</th>\n",
       "    </tr>\n",
       "  </thead>\n",
       "  <tbody>\n",
       "    <tr>\n",
       "      <th>78</th>\n",
       "      <td>2</td>\n",
       "      <td>Afghanistan</td>\n",
       "      <td>Emissions (CH4)</td>\n",
       "      <td>1961</td>\n",
       "      <td>gigagrams</td>\n",
       "      <td>285.7793</td>\n",
       "    </tr>\n",
       "    <tr>\n",
       "      <th>135</th>\n",
       "      <td>2</td>\n",
       "      <td>Afghanistan</td>\n",
       "      <td>Emissions (CO2eq)</td>\n",
       "      <td>1961</td>\n",
       "      <td>gigagrams</td>\n",
       "      <td>9255.6779</td>\n",
       "    </tr>\n",
       "    <tr>\n",
       "      <th>192</th>\n",
       "      <td>2</td>\n",
       "      <td>Afghanistan</td>\n",
       "      <td>Emissions (N2O)</td>\n",
       "      <td>1961</td>\n",
       "      <td>gigagrams</td>\n",
       "      <td>10.4978</td>\n",
       "    </tr>\n",
       "    <tr>\n",
       "      <th>79</th>\n",
       "      <td>2</td>\n",
       "      <td>Afghanistan</td>\n",
       "      <td>Emissions (CH4)</td>\n",
       "      <td>1962</td>\n",
       "      <td>gigagrams</td>\n",
       "      <td>290.8671</td>\n",
       "    </tr>\n",
       "    <tr>\n",
       "      <th>136</th>\n",
       "      <td>2</td>\n",
       "      <td>Afghanistan</td>\n",
       "      <td>Emissions (CO2eq)</td>\n",
       "      <td>1962</td>\n",
       "      <td>gigagrams</td>\n",
       "      <td>9331.0188</td>\n",
       "    </tr>\n",
       "  </tbody>\n",
       "</table>\n",
       "</div>"
      ],
      "text/plain": [
       "     Area Code         Area       Emis_Element  Year  Emis_Unit  Emis_Value\n",
       "78           2  Afghanistan    Emissions (CH4)  1961  gigagrams    285.7793\n",
       "135          2  Afghanistan  Emissions (CO2eq)  1961  gigagrams   9255.6779\n",
       "192          2  Afghanistan    Emissions (N2O)  1961  gigagrams     10.4978\n",
       "79           2  Afghanistan    Emissions (CH4)  1962  gigagrams    290.8671\n",
       "136          2  Afghanistan  Emissions (CO2eq)  1962  gigagrams   9331.0188"
      ]
     },
     "execution_count": 12,
     "metadata": {},
     "output_type": "execute_result"
    }
   ],
   "source": [
    "emissions.head()"
   ]
  },
  {
   "cell_type": "code",
   "execution_count": 13,
   "metadata": {},
   "outputs": [
    {
     "name": "stdout",
     "output_type": "stream",
     "text": [
      "<class 'pandas.core.frame.DataFrame'>\n",
      "Int64Index: 36131 entries, 78 to 25796\n",
      "Data columns (total 6 columns):\n",
      "Area Code       36131 non-null int64\n",
      "Area            36131 non-null object\n",
      "Emis_Element    36131 non-null object\n",
      "Year            36131 non-null int64\n",
      "Emis_Unit       36131 non-null object\n",
      "Emis_Value      36131 non-null float64\n",
      "dtypes: float64(1), int64(2), object(3)\n",
      "memory usage: 1.9+ MB\n"
     ]
    }
   ],
   "source": [
    "emissions.info()"
   ]
  },
  {
   "cell_type": "markdown",
   "metadata": {},
   "source": [
    "## Combined"
   ]
  },
  {
   "cell_type": "code",
   "execution_count": 26,
   "metadata": {},
   "outputs": [],
   "source": [
    "combined = pd.merge(emissions, population, how='left', on=['Area Code', 'Area', 'Year'])\n",
    "combined = pd.merge(combined, crops, how='left', on=['Area Code', 'Area', 'Year'])\n",
    "combined = combined[\n",
    "    ['Area Code', 'Area', 'Year', \n",
    "     'Emis_Element', 'Emis_Unit', 'Emis_Value', \n",
    "     'Agri_Element', 'Agri_Unit', 'Agri_Value', \n",
    "     'Population']\n",
    "]\n",
    "\n",
    "combined['Year'] = pd.to_datetime(combined['Year'], format='%Y')"
   ]
  },
  {
   "cell_type": "code",
   "execution_count": 27,
   "metadata": {},
   "outputs": [
    {
     "data": {
      "text/html": [
       "<div>\n",
       "<style scoped>\n",
       "    .dataframe tbody tr th:only-of-type {\n",
       "        vertical-align: middle;\n",
       "    }\n",
       "\n",
       "    .dataframe tbody tr th {\n",
       "        vertical-align: top;\n",
       "    }\n",
       "\n",
       "    .dataframe thead th {\n",
       "        text-align: right;\n",
       "    }\n",
       "</style>\n",
       "<table border=\"1\" class=\"dataframe\">\n",
       "  <thead>\n",
       "    <tr style=\"text-align: right;\">\n",
       "      <th></th>\n",
       "      <th>Area Code</th>\n",
       "      <th>Area</th>\n",
       "      <th>Year</th>\n",
       "      <th>Emis_Element</th>\n",
       "      <th>Emis_Unit</th>\n",
       "      <th>Emis_Value</th>\n",
       "      <th>Agri_Element</th>\n",
       "      <th>Agri_Unit</th>\n",
       "      <th>Agri_Value</th>\n",
       "      <th>Population</th>\n",
       "    </tr>\n",
       "  </thead>\n",
       "  <tbody>\n",
       "    <tr>\n",
       "      <th>0</th>\n",
       "      <td>2</td>\n",
       "      <td>Afghanistan</td>\n",
       "      <td>1961-01-01</td>\n",
       "      <td>Emissions (CH4)</td>\n",
       "      <td>gigagrams</td>\n",
       "      <td>285.7793</td>\n",
       "      <td>Area harvested</td>\n",
       "      <td>ha</td>\n",
       "      <td>11834963.0</td>\n",
       "      <td>9166.764</td>\n",
       "    </tr>\n",
       "    <tr>\n",
       "      <th>1</th>\n",
       "      <td>2</td>\n",
       "      <td>Afghanistan</td>\n",
       "      <td>1961-01-01</td>\n",
       "      <td>Emissions (CH4)</td>\n",
       "      <td>gigagrams</td>\n",
       "      <td>285.7793</td>\n",
       "      <td>Production</td>\n",
       "      <td>tonnes</td>\n",
       "      <td>14449553.0</td>\n",
       "      <td>9166.764</td>\n",
       "    </tr>\n",
       "    <tr>\n",
       "      <th>2</th>\n",
       "      <td>2</td>\n",
       "      <td>Afghanistan</td>\n",
       "      <td>1961-01-01</td>\n",
       "      <td>Emissions (CH4)</td>\n",
       "      <td>gigagrams</td>\n",
       "      <td>285.7793</td>\n",
       "      <td>Yield</td>\n",
       "      <td>hg/ha</td>\n",
       "      <td>1787380.0</td>\n",
       "      <td>9166.764</td>\n",
       "    </tr>\n",
       "    <tr>\n",
       "      <th>3</th>\n",
       "      <td>2</td>\n",
       "      <td>Afghanistan</td>\n",
       "      <td>1961-01-01</td>\n",
       "      <td>Emissions (CO2eq)</td>\n",
       "      <td>gigagrams</td>\n",
       "      <td>9255.6779</td>\n",
       "      <td>Area harvested</td>\n",
       "      <td>ha</td>\n",
       "      <td>11834963.0</td>\n",
       "      <td>9166.764</td>\n",
       "    </tr>\n",
       "    <tr>\n",
       "      <th>4</th>\n",
       "      <td>2</td>\n",
       "      <td>Afghanistan</td>\n",
       "      <td>1961-01-01</td>\n",
       "      <td>Emissions (CO2eq)</td>\n",
       "      <td>gigagrams</td>\n",
       "      <td>9255.6779</td>\n",
       "      <td>Production</td>\n",
       "      <td>tonnes</td>\n",
       "      <td>14449553.0</td>\n",
       "      <td>9166.764</td>\n",
       "    </tr>\n",
       "    <tr>\n",
       "      <th>5</th>\n",
       "      <td>2</td>\n",
       "      <td>Afghanistan</td>\n",
       "      <td>1961-01-01</td>\n",
       "      <td>Emissions (CO2eq)</td>\n",
       "      <td>gigagrams</td>\n",
       "      <td>9255.6779</td>\n",
       "      <td>Yield</td>\n",
       "      <td>hg/ha</td>\n",
       "      <td>1787380.0</td>\n",
       "      <td>9166.764</td>\n",
       "    </tr>\n",
       "    <tr>\n",
       "      <th>6</th>\n",
       "      <td>2</td>\n",
       "      <td>Afghanistan</td>\n",
       "      <td>1961-01-01</td>\n",
       "      <td>Emissions (N2O)</td>\n",
       "      <td>gigagrams</td>\n",
       "      <td>10.4978</td>\n",
       "      <td>Area harvested</td>\n",
       "      <td>ha</td>\n",
       "      <td>11834963.0</td>\n",
       "      <td>9166.764</td>\n",
       "    </tr>\n",
       "    <tr>\n",
       "      <th>7</th>\n",
       "      <td>2</td>\n",
       "      <td>Afghanistan</td>\n",
       "      <td>1961-01-01</td>\n",
       "      <td>Emissions (N2O)</td>\n",
       "      <td>gigagrams</td>\n",
       "      <td>10.4978</td>\n",
       "      <td>Production</td>\n",
       "      <td>tonnes</td>\n",
       "      <td>14449553.0</td>\n",
       "      <td>9166.764</td>\n",
       "    </tr>\n",
       "    <tr>\n",
       "      <th>8</th>\n",
       "      <td>2</td>\n",
       "      <td>Afghanistan</td>\n",
       "      <td>1961-01-01</td>\n",
       "      <td>Emissions (N2O)</td>\n",
       "      <td>gigagrams</td>\n",
       "      <td>10.4978</td>\n",
       "      <td>Yield</td>\n",
       "      <td>hg/ha</td>\n",
       "      <td>1787380.0</td>\n",
       "      <td>9166.764</td>\n",
       "    </tr>\n",
       "    <tr>\n",
       "      <th>9</th>\n",
       "      <td>2</td>\n",
       "      <td>Afghanistan</td>\n",
       "      <td>1962-01-01</td>\n",
       "      <td>Emissions (CH4)</td>\n",
       "      <td>gigagrams</td>\n",
       "      <td>290.8671</td>\n",
       "      <td>Area harvested</td>\n",
       "      <td>ha</td>\n",
       "      <td>12229684.0</td>\n",
       "      <td>9345.868</td>\n",
       "    </tr>\n",
       "  </tbody>\n",
       "</table>\n",
       "</div>"
      ],
      "text/plain": [
       "   Area Code         Area       Year       Emis_Element  Emis_Unit  \\\n",
       "0          2  Afghanistan 1961-01-01    Emissions (CH4)  gigagrams   \n",
       "1          2  Afghanistan 1961-01-01    Emissions (CH4)  gigagrams   \n",
       "2          2  Afghanistan 1961-01-01    Emissions (CH4)  gigagrams   \n",
       "3          2  Afghanistan 1961-01-01  Emissions (CO2eq)  gigagrams   \n",
       "4          2  Afghanistan 1961-01-01  Emissions (CO2eq)  gigagrams   \n",
       "5          2  Afghanistan 1961-01-01  Emissions (CO2eq)  gigagrams   \n",
       "6          2  Afghanistan 1961-01-01    Emissions (N2O)  gigagrams   \n",
       "7          2  Afghanistan 1961-01-01    Emissions (N2O)  gigagrams   \n",
       "8          2  Afghanistan 1961-01-01    Emissions (N2O)  gigagrams   \n",
       "9          2  Afghanistan 1962-01-01    Emissions (CH4)  gigagrams   \n",
       "\n",
       "   Emis_Value    Agri_Element Agri_Unit  Agri_Value  Population  \n",
       "0    285.7793  Area harvested        ha  11834963.0    9166.764  \n",
       "1    285.7793      Production    tonnes  14449553.0    9166.764  \n",
       "2    285.7793           Yield     hg/ha   1787380.0    9166.764  \n",
       "3   9255.6779  Area harvested        ha  11834963.0    9166.764  \n",
       "4   9255.6779      Production    tonnes  14449553.0    9166.764  \n",
       "5   9255.6779           Yield     hg/ha   1787380.0    9166.764  \n",
       "6     10.4978  Area harvested        ha  11834963.0    9166.764  \n",
       "7     10.4978      Production    tonnes  14449553.0    9166.764  \n",
       "8     10.4978           Yield     hg/ha   1787380.0    9166.764  \n",
       "9    290.8671  Area harvested        ha  12229684.0    9345.868  "
      ]
     },
     "execution_count": 27,
     "metadata": {},
     "output_type": "execute_result"
    }
   ],
   "source": [
    "combined.head(10)"
   ]
  },
  {
   "cell_type": "code",
   "execution_count": 28,
   "metadata": {},
   "outputs": [
    {
     "name": "stdout",
     "output_type": "stream",
     "text": [
      "<class 'pandas.core.frame.DataFrame'>\n",
      "Int64Index: 75836 entries, 0 to 75835\n",
      "Data columns (total 10 columns):\n",
      "Area Code       75836 non-null int64\n",
      "Area            75836 non-null object\n",
      "Year            75836 non-null datetime64[ns]\n",
      "Emis_Element    75836 non-null object\n",
      "Emis_Unit       75836 non-null object\n",
      "Emis_Value      75836 non-null float64\n",
      "Agri_Element    59739 non-null object\n",
      "Agri_Unit       59739 non-null object\n",
      "Agri_Value      59739 non-null float64\n",
      "Population      75575 non-null float64\n",
      "dtypes: datetime64[ns](1), float64(3), int64(1), object(5)\n",
      "memory usage: 6.4+ MB\n"
     ]
    }
   ],
   "source": [
    "combined.info()"
   ]
  },
  {
   "cell_type": "code",
   "execution_count": 29,
   "metadata": {},
   "outputs": [],
   "source": [
    "#combined.to_csv('combined_project_3_data.csv')"
   ]
  },
  {
   "cell_type": "code",
   "execution_count": 67,
   "metadata": {},
   "outputs": [
    {
     "data": {
      "text/html": [
       "<div>\n",
       "<style scoped>\n",
       "    .dataframe tbody tr th:only-of-type {\n",
       "        vertical-align: middle;\n",
       "    }\n",
       "\n",
       "    .dataframe tbody tr th {\n",
       "        vertical-align: top;\n",
       "    }\n",
       "\n",
       "    .dataframe thead th {\n",
       "        text-align: right;\n",
       "    }\n",
       "</style>\n",
       "<table border=\"1\" class=\"dataframe\">\n",
       "  <thead>\n",
       "    <tr style=\"text-align: right;\">\n",
       "      <th></th>\n",
       "      <th>Year</th>\n",
       "      <th>Emis_Value</th>\n",
       "      <th>Population</th>\n",
       "    </tr>\n",
       "  </thead>\n",
       "  <tbody>\n",
       "    <tr>\n",
       "      <th>0</th>\n",
       "      <td>1961-01-01</td>\n",
       "      <td>6.92</td>\n",
       "      <td>2.78</td>\n",
       "    </tr>\n",
       "    <tr>\n",
       "      <th>1</th>\n",
       "      <td>1962-01-01</td>\n",
       "      <td>7.05</td>\n",
       "      <td>2.83</td>\n",
       "    </tr>\n",
       "    <tr>\n",
       "      <th>2</th>\n",
       "      <td>1963-01-01</td>\n",
       "      <td>7.15</td>\n",
       "      <td>2.89</td>\n",
       "    </tr>\n",
       "    <tr>\n",
       "      <th>3</th>\n",
       "      <td>1964-01-01</td>\n",
       "      <td>7.38</td>\n",
       "      <td>2.95</td>\n",
       "    </tr>\n",
       "    <tr>\n",
       "      <th>4</th>\n",
       "      <td>1965-01-01</td>\n",
       "      <td>7.57</td>\n",
       "      <td>3.01</td>\n",
       "    </tr>\n",
       "  </tbody>\n",
       "</table>\n",
       "</div>"
      ],
      "text/plain": [
       "        Year  Emis_Value  Population\n",
       "0 1961-01-01        6.92        2.78\n",
       "1 1962-01-01        7.05        2.83\n",
       "2 1963-01-01        7.15        2.89\n",
       "3 1964-01-01        7.38        2.95\n",
       "4 1965-01-01        7.57        3.01"
      ]
     },
     "execution_count": 67,
     "metadata": {},
     "output_type": "execute_result"
    }
   ],
   "source": [
    "test_grouped = combined.groupby('Year').agg({'Emis_Value': 'sum', 'Population': 'sum'}).reset_index()\n",
    "test_grouped['Population'] = test_grouped['Population']/10000000\n",
    "test_grouped['Emis_Value'] = test_grouped['Emis_Value']/1000000\n",
    "test_grouped = test_grouped.round(2)\n",
    "test_grouped.head()"
   ]
  },
  {
   "cell_type": "code",
   "execution_count": 77,
   "metadata": {},
   "outputs": [
    {
     "data": {
      "text/plain": [
       "(56.038356164383565,\n",
       " Timestamp('1961-01-01 00:00:00'),\n",
       " Timestamp('2017-01-01 00:00:00'))"
      ]
     },
     "execution_count": 77,
     "metadata": {},
     "output_type": "execute_result"
    }
   ],
   "source": [
    "a = test_grouped['Year'].min()\n",
    "b = test_grouped['Year'].max()\n",
    "(b - a)\n",
    "20454/365, a, b"
   ]
  },
  {
   "cell_type": "code",
   "execution_count": 80,
   "metadata": {},
   "outputs": [
    {
     "data": {
      "image/png": "[encoded data removed]",
      "text/plain": [
       "<Figure size 900x504 with 1 Axes>"
      ]
     },
     "metadata": {
      "needs_background": "light"
     },
     "output_type": "display_data"
    }
   ],
   "source": [
    "plt.rcParams.update({'font.size': 18})\n",
    "plt.rcParams['axes.axisbelow'] = True\n",
    "\n",
    "COLOR = '#2a3439'\n",
    "plt.rcParams['text.color'] = COLOR\n",
    "plt.rcParams['axes.labelcolor'] = COLOR\n",
    "plt.rcParams['xtick.color'] = COLOR\n",
    "plt.rcParams['ytick.color'] = COLOR\n",
    "plt.rcParams['lines.color'] = COLOR\n",
    "plt.rcParams['lines.linewidth'] = 2\n",
    "\n",
    "x = test_grouped['Year']\n",
    "y1 = test_grouped['Emis_Value']\n",
    "y2 = test_grouped['Population']\n",
    "\n",
    "fig, ax = plt.subplots(1, figsize=[12.5, 7])\n",
    "\n",
    "ax.scatter(\n",
    "    y2, \n",
    "    y1,\n",
    "    c = '#2a3439',\n",
    "    edgecolors = '#2a3439',\n",
    "    linewidths = 1,\n",
    "    s = 150\n",
    ")\n",
    "\n",
    "ax.set_ylabel('CH4, CO2 and N2O Emission Million Gigagrams')\n",
    "ax.set_xlabel('World Population in Billions of People')\n",
    "ax.set_title('Global Population and Agricultural Emissions (1961 - 2017)')\n",
    "\n",
    "ax.spines['top'].set_visible(False)\n",
    "ax.spines['right'].set_visible(False)\n",
    "\n",
    "plt.savefig('Static scatter.png', transparent=True)\n",
    "plt.show()"
   ]
  },
  {
   "cell_type": "code",
   "execution_count": 20,
   "metadata": {},
   "outputs": [],
   "source": [
    "grouped = combined.groupby(\n",
    "    ['Year', 'Emis_Element', 'Agri_Element']\n",
    ").agg(\n",
    "    {\n",
    "    'Emis_Value': 'sum',\n",
    "    'Agri_Value': 'sum', \n",
    "    'Population': 'sum'\n",
    "    }).reset_index()"
   ]
  },
  {
   "cell_type": "code",
   "execution_count": 21,
   "metadata": {},
   "outputs": [
    {
     "data": {
      "text/html": [
       "<div>\n",
       "<style scoped>\n",
       "    .dataframe tbody tr th:only-of-type {\n",
       "        vertical-align: middle;\n",
       "    }\n",
       "\n",
       "    .dataframe tbody tr th {\n",
       "        vertical-align: top;\n",
       "    }\n",
       "\n",
       "    .dataframe thead th {\n",
       "        text-align: right;\n",
       "    }\n",
       "</style>\n",
       "<table border=\"1\" class=\"dataframe\">\n",
       "  <thead>\n",
       "    <tr style=\"text-align: right;\">\n",
       "      <th></th>\n",
       "      <th>Year</th>\n",
       "      <th>Emis_Element</th>\n",
       "      <th>Agri_Element</th>\n",
       "      <th>Emis_Value</th>\n",
       "      <th>Agri_Value</th>\n",
       "      <th>Population</th>\n",
       "    </tr>\n",
       "  </thead>\n",
       "  <tbody>\n",
       "    <tr>\n",
       "      <th>0</th>\n",
       "      <td>1961</td>\n",
       "      <td>Emissions (CH4)</td>\n",
       "      <td>Area harvested</td>\n",
       "      <td>6.247251e+04</td>\n",
       "      <td>2.036866e+09</td>\n",
       "      <td>2750469.999</td>\n",
       "    </tr>\n",
       "    <tr>\n",
       "      <th>1</th>\n",
       "      <td>1961</td>\n",
       "      <td>Emissions (CH4)</td>\n",
       "      <td>Production</td>\n",
       "      <td>6.247316e+04</td>\n",
       "      <td>3.719281e+09</td>\n",
       "      <td>2750486.893</td>\n",
       "    </tr>\n",
       "    <tr>\n",
       "      <th>2</th>\n",
       "      <td>1961</td>\n",
       "      <td>Emissions (CH4)</td>\n",
       "      <td>Yield</td>\n",
       "      <td>6.247212e+04</td>\n",
       "      <td>4.333860e+08</td>\n",
       "      <td>2750461.844</td>\n",
       "    </tr>\n",
       "    <tr>\n",
       "      <th>3</th>\n",
       "      <td>1961</td>\n",
       "      <td>Emissions (CO2eq)</td>\n",
       "      <td>Area harvested</td>\n",
       "      <td>1.839396e+06</td>\n",
       "      <td>2.036866e+09</td>\n",
       "      <td>2750469.999</td>\n",
       "    </tr>\n",
       "    <tr>\n",
       "      <th>4</th>\n",
       "      <td>1961</td>\n",
       "      <td>Emissions (CO2eq)</td>\n",
       "      <td>Production</td>\n",
       "      <td>1.839414e+06</td>\n",
       "      <td>3.719281e+09</td>\n",
       "      <td>2750486.893</td>\n",
       "    </tr>\n",
       "    <tr>\n",
       "      <th>5</th>\n",
       "      <td>1961</td>\n",
       "      <td>Emissions (CO2eq)</td>\n",
       "      <td>Yield</td>\n",
       "      <td>1.839383e+06</td>\n",
       "      <td>4.333860e+08</td>\n",
       "      <td>2750461.844</td>\n",
       "    </tr>\n",
       "    <tr>\n",
       "      <th>6</th>\n",
       "      <td>1961</td>\n",
       "      <td>Emissions (N2O)</td>\n",
       "      <td>Area harvested</td>\n",
       "      <td>1.701527e+03</td>\n",
       "      <td>2.036866e+09</td>\n",
       "      <td>2750469.999</td>\n",
       "    </tr>\n",
       "    <tr>\n",
       "      <th>7</th>\n",
       "      <td>1961</td>\n",
       "      <td>Emissions (N2O)</td>\n",
       "      <td>Production</td>\n",
       "      <td>1.701543e+03</td>\n",
       "      <td>3.719281e+09</td>\n",
       "      <td>2750486.893</td>\n",
       "    </tr>\n",
       "    <tr>\n",
       "      <th>8</th>\n",
       "      <td>1961</td>\n",
       "      <td>Emissions (N2O)</td>\n",
       "      <td>Yield</td>\n",
       "      <td>1.701512e+03</td>\n",
       "      <td>4.333860e+08</td>\n",
       "      <td>2750461.844</td>\n",
       "    </tr>\n",
       "    <tr>\n",
       "      <th>9</th>\n",
       "      <td>1962</td>\n",
       "      <td>Emissions (CH4)</td>\n",
       "      <td>Area harvested</td>\n",
       "      <td>6.330712e+04</td>\n",
       "      <td>2.059622e+09</td>\n",
       "      <td>2802051.325</td>\n",
       "    </tr>\n",
       "  </tbody>\n",
       "</table>\n",
       "</div>"
      ],
      "text/plain": [
       "   Year       Emis_Element    Agri_Element    Emis_Value    Agri_Value  \\\n",
       "0  1961    Emissions (CH4)  Area harvested  6.247251e+04  2.036866e+09   \n",
       "1  1961    Emissions (CH4)      Production  6.247316e+04  3.719281e+09   \n",
       "2  1961    Emissions (CH4)           Yield  6.247212e+04  4.333860e+08   \n",
       "3  1961  Emissions (CO2eq)  Area harvested  1.839396e+06  2.036866e+09   \n",
       "4  1961  Emissions (CO2eq)      Production  1.839414e+06  3.719281e+09   \n",
       "5  1961  Emissions (CO2eq)           Yield  1.839383e+06  4.333860e+08   \n",
       "6  1961    Emissions (N2O)  Area harvested  1.701527e+03  2.036866e+09   \n",
       "7  1961    Emissions (N2O)      Production  1.701543e+03  3.719281e+09   \n",
       "8  1961    Emissions (N2O)           Yield  1.701512e+03  4.333860e+08   \n",
       "9  1962    Emissions (CH4)  Area harvested  6.330712e+04  2.059622e+09   \n",
       "\n",
       "    Population  \n",
       "0  2750469.999  \n",
       "1  2750486.893  \n",
       "2  2750461.844  \n",
       "3  2750469.999  \n",
       "4  2750486.893  \n",
       "5  2750461.844  \n",
       "6  2750469.999  \n",
       "7  2750486.893  \n",
       "8  2750461.844  \n",
       "9  2802051.325  "
      ]
     },
     "execution_count": 21,
     "metadata": {},
     "output_type": "execute_result"
    }
   ],
   "source": [
    "grouped.head(10)"
   ]
  },
  {
   "cell_type": "code",
   "execution_count": 33,
   "metadata": {},
   "outputs": [
    {
     "data": {
      "image/png": "[encoded data removed]",
      "text/plain": [
       "<Figure size 900x504 with 3 Axes>"
      ]
     },
     "metadata": {
      "needs_background": "light"
     },
     "output_type": "display_data"
    }
   ],
   "source": [
    "fig, (ax1, ax2, ax3) = plt.subplots(3, figsize = [12.5, 7])\n",
    "\n",
    "ax1.plot(grouped['Year'], grouped['Emis_Value'])\n",
    "ax2.plot(grouped['Year'], grouped['Agri_Value'])\n",
    "ax3.plot(grouped['Year'], grouped['Population'])\n",
    "\n",
    "plt.show()"
   ]
  },
  {
   "cell_type": "code",
   "execution_count": 27,
   "metadata": {},
   "outputs": [
    {
     "data": {
      "image/png": "[encoded data removed]",
      "text/plain": [
       "<Figure size 900x504 with 1 Axes>"
      ]
     },
     "metadata": {
      "needs_background": "light"
     },
     "output_type": "display_data"
    }
   ],
   "source": [
    "fig, ax = plt.subplots(1, figsize = [12.5, 7])\n",
    "\n",
    "ax.bar(grouped['Year'], grouped['Agri_Value'])\n",
    "\n",
    "plt.show()"
   ]
  },
  {
   "cell_type": "code",
   "execution_count": 28,
   "metadata": {},
   "outputs": [
    {
     "data": {
      "image/png": "[encoded data removed]",
      "text/plain": [
       "<Figure size 900x504 with 1 Axes>"
      ]
     },
     "metadata": {
      "needs_background": "light"
     },
     "output_type": "display_data"
    }
   ],
   "source": [
    "fig, ax = plt.subplots(1, figsize = [12.5, 7])\n",
    "\n",
    "ax.bar(grouped['Year'], grouped['Population'])\n",
    "\n",
    "plt.show()"
   ]
  },
  {
   "cell_type": "code",
   "execution_count": null,
   "metadata": {},
   "outputs": [],
   "source": []
  }
 ],
 "metadata": {
  "kernelspec": {
   "display_name": "Python 3",
   "language": "python",
   "name": "python3"
  },
  "language_info": {
   "codemirror_mode": {
    "name": "ipython",
    "version": 3
   },
   "file_extension": ".py",
   "mimetype": "text/x-python",
   "name": "python",
   "nbconvert_exporter": "python",
   "pygments_lexer": "ipython3",
   "version": "3.7.3"
  }
 },
 "nbformat": 4,
 "nbformat_minor": 2
}
