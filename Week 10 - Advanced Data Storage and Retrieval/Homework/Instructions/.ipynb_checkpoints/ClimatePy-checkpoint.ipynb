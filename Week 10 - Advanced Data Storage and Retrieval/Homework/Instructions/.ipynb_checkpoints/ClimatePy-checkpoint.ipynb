{
 "cells": [
  {
   "cell_type": "markdown",
   "metadata": {},
   "source": [
    "<img src='title_slide.png'>"
   ]
  },
  {
   "cell_type": "markdown",
   "metadata": {},
   "source": [
    "## -----------------------------------------------------------------------------------------------------------------------------------"
   ]
  },
  {
   "cell_type": "markdown",
   "metadata": {},
   "source": [
    "<center><h1>Environment and ORM Setup</h1></center>"
   ]
  },
  {
   "cell_type": "markdown",
   "metadata": {},
   "source": [
    "#### Dependencies and Packages"
   ]
  },
  {
   "cell_type": "code",
   "execution_count": null,
   "metadata": {},
   "outputs": [],
   "source": [
    "# Package dependencies\n",
    "import matplotlib.pyplot as plt\n",
    "from matplotlib import style\n",
    "import matplotlib.dates as mdates\n",
    "import numpy as np\n",
    "import pandas as pd\n",
    "import datetime as dt\n",
    "from scipy.stats import ttest_ind\n",
    "import warnings\n",
    "\n",
    "warnings.filterwarnings(\"ignore\")\n",
    "%matplotlib inline\n",
    "\n",
    "# SQLAlchemy Object Relational Mapper (ORM)\n",
    "import sqlalchemy\n",
    "from sqlalchemy.ext.automap import automap_base\n",
    "from sqlalchemy.orm import Session\n",
    "from sqlalchemy import create_engine, func, inspect\n",
    "from sqlalchemy import Column, Integer, String, Float\n",
    "from sqlalchemy.sql import select"
   ]
  },
  {
   "cell_type": "markdown",
   "metadata": {},
   "source": [
    "#### SQLAlchemy ORM Setup"
   ]
  },
  {
   "cell_type": "code",
   "execution_count": null,
   "metadata": {},
   "outputs": [],
   "source": [
    "# Create SQLite Engine\n",
    "engine = create_engine(\"sqlite:///Resources/hawaii.sqlite\")\n",
    "\n",
    "# reflect an existing database into a new model\n",
    "Base = automap_base()\n",
    "\n",
    "# reflect the tables\n",
    "Base.prepare(engine, reflect=True)\n",
    "\n",
    "# Save references to each table\n",
    "Measurement = Base.classes.measurement\n",
    "Station = Base.classes.station\n",
    "\n",
    "# Create our session (link) from Python to the DB\n",
    "session = Session(engine)\n",
    "\n",
    "# Create a connection\n",
    "conn = engine.connect()"
   ]
  },
  {
   "cell_type": "markdown",
   "metadata": {},
   "source": [
    "### Inspect Object Tables"
   ]
  },
  {
   "cell_type": "code",
   "execution_count": null,
   "metadata": {},
   "outputs": [],
   "source": [
    "# Create an inspectiion object and get table names\n",
    "inspector = inspect(engine)\n",
    "inspector.get_table_names()"
   ]
  },
  {
   "cell_type": "markdown",
   "metadata": {},
   "source": [
    "#### Measurement Table"
   ]
  },
  {
   "cell_type": "code",
   "execution_count": null,
   "metadata": {},
   "outputs": [],
   "source": [
    "# Inspect the Measurement table\n",
    "measurement_columns = inspector.get_columns('measurement')\n",
    "\n",
    "for column in measurement_columns:\n",
    "    print(column['name'], column['type'])"
   ]
  },
  {
   "cell_type": "markdown",
   "metadata": {},
   "source": [
    "#### Station Table"
   ]
  },
  {
   "cell_type": "code",
   "execution_count": null,
   "metadata": {},
   "outputs": [],
   "source": [
    "station_columns = inspector.get_columns('station')\n",
    "for column in station_columns:\n",
    "    print(column['name'], column['type'])"
   ]
  },
  {
   "cell_type": "markdown",
   "metadata": {},
   "source": [
    "## -----------------------------------------------------------------------------------------------------------------------------------"
   ]
  },
  {
   "cell_type": "markdown",
   "metadata": {},
   "source": [
    "<center><h1>Part 1 - Climate Analysis and Exploration</center></h1>"
   ]
  },
  {
   "cell_type": "markdown",
   "metadata": {},
   "source": [
    "<center><h2>Preciptation Analysis</center></h2>\n",
    "\n",
    "* Calculate the date 1 year ago from the last data point in the database\n",
    "* Perform a query to retrieve the data and precipitation scores\n",
    "* Save the query results as a Pandas DataFrame and set the index to the date column\n",
    "* Sort the dataframe by date\n",
    "* Use Pandas Plotting with Matplotlib to plot the data"
   ]
  },
  {
   "cell_type": "markdown",
   "metadata": {},
   "source": [
    "## -----------------------------------------------------------------------------------------------------------------------------------"
   ]
  },
  {
   "cell_type": "markdown",
   "metadata": {},
   "source": [
    "\n",
    "#### NOTE: For each query the Pandas/SQL tectual query syntax is used as well as the SQLAlchemy ORM syntax\n"
   ]
  },
  {
   "cell_type": "markdown",
   "metadata": {},
   "source": [
    "## -----------------------------------------------------------------------------------------------------------------------------------"
   ]
  },
  {
   "cell_type": "markdown",
   "metadata": {},
   "source": [
    "### Latest Year Query"
   ]
  },
  {
   "cell_type": "markdown",
   "metadata": {},
   "source": [
    "* Design a query to retrieve the last 12 months of precipitation data and plot the results"
   ]
  },
  {
   "cell_type": "markdown",
   "metadata": {},
   "source": [
    "#### Pandas / SQL "
   ]
  },
  {
   "cell_type": "code",
   "execution_count": null,
   "metadata": {},
   "outputs": [],
   "source": [
    "year = pd.read_sql('''SELECT \n",
    "                        m.date AS Date, \n",
    "                        round(avg(m.tobs), 2) AS Temperature, \n",
    "                        round(sum(m.prcp), 2) AS Precipitation\n",
    "                      FROM measurement AS m\n",
    "                      GROUP BY m.date\n",
    "                      ORDER BY m.date ASC;''', conn)\n",
    "\n",
    "year['Date'] = pd.to_datetime(year['Date'])\n",
    "year = year[year['Date'] >= '2016-08-23']\n",
    "year.head()"
   ]
  },
  {
   "cell_type": "markdown",
   "metadata": {},
   "source": [
    "#### SQLAlchemy ORM"
   ]
  },
  {
   "cell_type": "code",
   "execution_count": null,
   "metadata": {},
   "outputs": [],
   "source": [
    "select = [\n",
    "    Measurement.date.label('Date'), \n",
    "    func.sum(Measurement.prcp.label('Precipitation')), \n",
    "    func.avg(Measurement.tobs.label('Temperature'))\n",
    "]\n",
    "\n",
    "results = session.query(\n",
    "    *select\n",
    ").filter(\n",
    "    Measurement.station == Station.station\n",
    ").group_by(\n",
    "    Measurement.date\n",
    ").filter(\n",
    "    Measurement.date >= '2016-08-23'\n",
    ").all()\n",
    "\n",
    "results_dict = {\n",
    "    'Date': [result[0] for result in results],\n",
    "    'Precipitation': [result[1] for result in results],\n",
    "    'Temperature': [result[2] for result in results]\n",
    "    \n",
    "}\n",
    "\n",
    "year = round(pd.DataFrame(results_dict), 2)\n",
    "year['Date'] = pd.to_datetime(year['Date'])\n",
    "year.head()"
   ]
  },
  {
   "cell_type": "markdown",
   "metadata": {},
   "source": [
    "#### Latest Year Precipitation Plot"
   ]
  },
  {
   "cell_type": "code",
   "execution_count": null,
   "metadata": {},
   "outputs": [],
   "source": [
    "plt.rcParams.update({'font.size': 30})\n",
    "plt.rcParams['axes.axisbelow'] = True\n",
    "\n",
    "COLOR = '#002147'\n",
    "plt.rcParams['text.color'] = COLOR\n",
    "plt.rcParams['axes.labelcolor'] = COLOR\n",
    "plt.rcParams['xtick.color'] = COLOR\n",
    "plt.rcParams['ytick.color'] = COLOR\n",
    "plt.rcParams['lines.color'] = COLOR\n",
    "plt.rcParams['lines.linewidth'] = 2\n",
    "\n",
    "months = mdates.MonthLocator()\n",
    "months_fmt = mdates.DateFormatter('%B')\n",
    "\n",
    "fig, ax = plt.subplots(1, figsize = [20, 7.25])\n",
    "\n",
    "ax.plot(\n",
    "    year['Date'], \n",
    "    year['Precipitation'], \n",
    "    color = '#002147',\n",
    "    lw = 5\n",
    ")\n",
    "\n",
    "ax.xaxis.set_major_locator(months)\n",
    "ax.xaxis.set_major_formatter(months_fmt)\n",
    "\n",
    "ax.spines['top'].set_visible(False)\n",
    "ax.spines['right'].set_visible(False)\n",
    "\n",
    "ax.set_ylabel('Precipitation')\n",
    "ax.set_xlabel('Date')\n",
    "ax.set_title('CUMULATIVE PRECIPITATION')\n",
    "\n",
    "fig.autofmt_xdate()\n",
    "\n",
    "plt.tight_layout()\n",
    "plt.savefig('Preciptation in One Year.png', transparent=True)\n",
    "\n",
    "plt.show()"
   ]
  },
  {
   "cell_type": "markdown",
   "metadata": {},
   "source": [
    "#### Latest Year Temperature Plot"
   ]
  },
  {
   "cell_type": "code",
   "execution_count": null,
   "metadata": {},
   "outputs": [],
   "source": [
    "plt.rcParams.update({'font.size': 30})\n",
    "plt.rcParams['axes.axisbelow'] = True\n",
    "\n",
    "COLOR = '#002147'\n",
    "plt.rcParams['text.color'] = COLOR\n",
    "plt.rcParams['axes.labelcolor'] = COLOR\n",
    "plt.rcParams['xtick.color'] = COLOR\n",
    "plt.rcParams['ytick.color'] = COLOR\n",
    "plt.rcParams['lines.color'] = COLOR\n",
    "plt.rcParams['lines.linewidth'] = 2\n",
    "\n",
    "months = mdates.MonthLocator()\n",
    "months_fmt = mdates.DateFormatter('%B')\n",
    "\n",
    "fig, ax = plt.subplots(1, figsize = [20, 7.25])\n",
    "\n",
    "ax.plot(\n",
    "    year['Date'], \n",
    "    year['Temperature'], \n",
    "    color = '#002147',\n",
    "    lw = 5\n",
    ")\n",
    "\n",
    "ax.xaxis.set_major_locator(months)\n",
    "ax.xaxis.set_major_formatter(months_fmt)\n",
    "\n",
    "ax.spines['top'].set_visible(False)\n",
    "ax.spines['right'].set_visible(False)\n",
    "\n",
    "ax.set_ylabel(\"($^\\circ$F)\")\n",
    "ax.set_xlabel('Date')\n",
    "ax.set_title('MEAN TEMPERATURES')\n",
    "\n",
    "fig.autofmt_xdate()\n",
    "\n",
    "plt.tight_layout()\n",
    "plt.savefig('Temperature in One Year.png', transparent=True)\n",
    "\n",
    "plt.show()"
   ]
  },
  {
   "cell_type": "markdown",
   "metadata": {},
   "source": [
    "#### Describe() Year DataFrame"
   ]
  },
  {
   "cell_type": "markdown",
   "metadata": {},
   "source": [
    "* Use Pandas to print the summary statistics for the precipitation data"
   ]
  },
  {
   "cell_type": "code",
   "execution_count": null,
   "metadata": {},
   "outputs": [],
   "source": [
    "year.describe()"
   ]
  },
  {
   "cell_type": "markdown",
   "metadata": {},
   "source": [
    "## -----------------------------------------------------------------------------------------------------------------------------------"
   ]
  },
  {
   "cell_type": "markdown",
   "metadata": {},
   "source": [
    "<center><h2>Station Analysis</center></h2>"
   ]
  },
  {
   "cell_type": "markdown",
   "metadata": {},
   "source": [
    "* Design a query to calculate the total number of stations"
   ]
  },
  {
   "cell_type": "markdown",
   "metadata": {},
   "source": [
    "#### Pandas / SQL"
   ]
  },
  {
   "cell_type": "code",
   "execution_count": null,
   "metadata": {},
   "outputs": [],
   "source": [
    "# Design a query to show how many stations are available in this dataset?\n",
    "station_count = pd.read_sql('''SELECT count(station) \n",
    "                               FROM station;''', conn).iloc[0, 0]\n",
    "\n",
    "print(f\"There are {station_count} stations in the dataset.\")"
   ]
  },
  {
   "cell_type": "markdown",
   "metadata": {},
   "source": [
    "#### SQLAlchemy ORM"
   ]
  },
  {
   "cell_type": "code",
   "execution_count": null,
   "metadata": {},
   "outputs": [],
   "source": [
    "select = [\n",
    "    func.count(Station.station)\n",
    "]\n",
    "\n",
    "station_count = session.query(\n",
    "    *select\n",
    ").all()\n",
    "\n",
    "print(f'There are {station_count[0][0]} stations in the dataset.')"
   ]
  },
  {
   "cell_type": "markdown",
   "metadata": {},
   "source": [
    "## -----------------------------------------------------------------------------------------------------------------------------------"
   ]
  },
  {
   "cell_type": "markdown",
   "metadata": {},
   "source": [
    "* Design a query to find the most active stations.\n",
    "    * List the stations and observation counts in descending order\n",
    "    * Which station has the highest number of observations?"
   ]
  },
  {
   "cell_type": "markdown",
   "metadata": {},
   "source": [
    "#### Pandas / SQL"
   ]
  },
  {
   "cell_type": "code",
   "execution_count": null,
   "metadata": {},
   "outputs": [],
   "source": [
    "# What are the most active stations? (i.e. what stations have the most rows)?\n",
    "# List the stations and the counts in descending order.\n",
    "active_stations = pd.read_sql('''SELECT m.station AS Station, \n",
    "                                    count(m.station) AS Count,\n",
    "                                    s.name AS Name,\n",
    "                                    round(avg(m.tobs), 2) AS Temperature, \n",
    "                                    round(avg(m.prcp), 2) AS Precipitation,\n",
    "                                    s.latitude AS Lat,\n",
    "                                    s.longitude AS Lon\n",
    "                                 FROM measurement AS m\n",
    "                                 LEFT JOIN station AS s\n",
    "                                 ON m.Station = s.station\n",
    "                                 GROUP BY m.station\n",
    "                                 ORDER BY Count ASC;''', conn)\n",
    "\n",
    "#active_stations.sort_values('Count', ascending=False)\n",
    "active_stations['Years'] = round(active_stations['Count'] / 365, 2)\n",
    "active_stations"
   ]
  },
  {
   "cell_type": "markdown",
   "metadata": {},
   "source": [
    "#### SQLAlchemy ORM"
   ]
  },
  {
   "cell_type": "code",
   "execution_count": null,
   "metadata": {},
   "outputs": [],
   "source": [
    "select = [\n",
    "    Measurement.station.label('Station'), \n",
    "    func.count(Measurement.station).label('Count'), \n",
    "    Station.name.label('Name'), \n",
    "    func.avg(Measurement.tobs).label('Temperature'), \n",
    "    func.avg(Measurement.prcp).label('Precipitation'), \n",
    "    Station.latitude.label('Lat'), \n",
    "    Station.longitude.label('Lon')\n",
    "]\n",
    "\n",
    "results = session.query(\n",
    "    *select\n",
    ").filter(\n",
    "    Measurement.station == Station.station\n",
    ").group_by(\n",
    "    Measurement.station\n",
    ").order_by(\n",
    "    'Count'\n",
    ").all()\n",
    "\n",
    "results_dict = {\n",
    "    'Station': [result[0] for result in results],\n",
    "    'Count': [result[1] for result in results],\n",
    "    'Name': [result[2] for result in results],\n",
    "    'Temperature': [result[3] for result in results],\n",
    "    'Precipitation': [result[4] for result in results],\n",
    "    'Lat': [result[5] for result in results],\n",
    "    'Lon': [result[6] for result in results]\n",
    "}\n",
    "\n",
    "active_stations = pd.DataFrame(results)\n",
    "\n",
    "active_stations['Years'] = active_stations['Count'] / 365\n",
    "active_stations = round(active_stations, 2)\n",
    "\n",
    "active_stations"
   ]
  },
  {
   "cell_type": "markdown",
   "metadata": {},
   "source": [
    "#### Station Activity Barplot"
   ]
  },
  {
   "cell_type": "code",
   "execution_count": null,
   "metadata": {},
   "outputs": [],
   "source": [
    "plt.rcParams.update({'font.size': 30})\n",
    "plt.rcParams['axes.axisbelow'] = True\n",
    "\n",
    "COLOR = '#002147'\n",
    "plt.rcParams['text.color'] = COLOR\n",
    "plt.rcParams['axes.labelcolor'] = COLOR\n",
    "plt.rcParams['xtick.color'] = COLOR\n",
    "plt.rcParams['ytick.color'] = COLOR\n",
    "plt.rcParams['lines.color'] = COLOR\n",
    "plt.rcParams['lines.linewidth'] = 2\n",
    "\n",
    "fig, ax = plt.subplots(1, figsize = [30, 10])\n",
    "\n",
    "ax.barh(\n",
    "    active_stations['Name'], \n",
    "    active_stations['Years'], \n",
    "    color = '#002147'\n",
    ")\n",
    "\n",
    "ax.spines['top'].set_visible(False)\n",
    "ax.spines['right'].set_visible(False)\n",
    "\n",
    "ax.set_ylabel('Station')\n",
    "ax.set_xlabel('Years')\n",
    "ax.set_title('RECORDED ($^\\circ$F) YEARS')\n",
    "\n",
    "plt.tight_layout()\n",
    "plt.savefig('Active Stations.png', transparent=True)\n",
    "\n",
    "plt.show()"
   ]
  },
  {
   "cell_type": "markdown",
   "metadata": {},
   "source": [
    "## -----------------------------------------------------------------------------------------------------------------------------------"
   ]
  },
  {
   "cell_type": "markdown",
   "metadata": {},
   "source": [
    "* Using the station id from the previous query, calculate the lowest temperature recorded, highest temperature recorded, and average temperature for the most active station."
   ]
  },
  {
   "cell_type": "markdown",
   "metadata": {},
   "source": [
    "#### Pandas / SQL"
   ]
  },
  {
   "cell_type": "code",
   "execution_count": null,
   "metadata": {},
   "outputs": [],
   "source": [
    "pd.read_sql(\"\"\"SELECT min(tobs) AS Lowest, round(avg(tobs), 2) AS Average, max(tobs) AS Highest\n",
    "               FROM measurement\n",
    "               WHERE station = 'USC00519281';\"\"\", conn)"
   ]
  },
  {
   "cell_type": "markdown",
   "metadata": {},
   "source": [
    "#### SQLAlchemy ORM"
   ]
  },
  {
   "cell_type": "code",
   "execution_count": null,
   "metadata": {},
   "outputs": [],
   "source": [
    "select = [\n",
    "    func.min(Measurement.tobs).label('Lowest'), \n",
    "    func.avg(Measurement.tobs).label('Average'), \n",
    "    func.max(Measurement.tobs).label('Highest')]\n",
    "\n",
    "results = session.query(*select).filter(Measurement.station == 'USC00519281').all()\n",
    "\n",
    "results_dict = {\n",
    "    'Lowest': [result[0] for result in results],\n",
    "    'Average': [result[1] for result in results],\n",
    "    'Highest': [result[2] for result in results]\n",
    "}\n",
    "\n",
    "round(pd.DataFrame(results_dict, index = ['Values']), 2)"
   ]
  },
  {
   "cell_type": "markdown",
   "metadata": {},
   "source": [
    "## -----------------------------------------------------------------------------------------------------------------------------------"
   ]
  },
  {
   "cell_type": "markdown",
   "metadata": {},
   "source": [
    "* Design a query to retrieve the last 12 months of temperature observation data (tobs).\n",
    "    * Filter by the station with the highest number of observations\n",
    "    * Plot the results as a histogram with bins = 12."
   ]
  },
  {
   "cell_type": "markdown",
   "metadata": {},
   "source": [
    "#### Pandas / SQL"
   ]
  },
  {
   "cell_type": "code",
   "execution_count": null,
   "metadata": {},
   "outputs": [],
   "source": [
    "year_station = pd.read_sql(\"\"\"SELECT date AS Date, \n",
    "                              tobs AS Temperature\n",
    "                              FROM measurement\n",
    "                              WHERE station = 'USC00519281'\n",
    "                              AND Date >= '2016-08-18';\"\"\", conn)\n",
    "year_station['Date'] = pd.to_datetime(year_station['Date'])\n",
    "year_station.head()"
   ]
  },
  {
   "cell_type": "markdown",
   "metadata": {},
   "source": [
    "#### SLQAlchemy ORM"
   ]
  },
  {
   "cell_type": "code",
   "execution_count": null,
   "metadata": {},
   "outputs": [],
   "source": [
    "select = [\n",
    "    Measurement.date.label('Date'), \n",
    "    Measurement.tobs.label('Temperature')\n",
    "]\n",
    "\n",
    "results = session.query(\n",
    "    *select\n",
    ").filter(\n",
    "    Measurement.station == 'USC00519281'\n",
    ").filter(\n",
    "    Measurement.date >= '2016-08-23'\n",
    ").all()\n",
    "\n",
    "results_dict = {\n",
    "    'Date': [result[0] for result in results],\n",
    "    'Temperature': [result[1] for result in results]\n",
    "}\n",
    "\n",
    "year_station = pd.DataFrame(results_dict)\n",
    "year_station.head()"
   ]
  },
  {
   "cell_type": "markdown",
   "metadata": {},
   "source": [
    "#### Histogram of Station USC00519281-WAIHEE 837.5 "
   ]
  },
  {
   "cell_type": "code",
   "execution_count": null,
   "metadata": {},
   "outputs": [],
   "source": [
    "plt.rcParams.update({'font.size': 16})\n",
    "plt.rcParams['axes.axisbelow'] = True\n",
    "\n",
    "COLOR = '#002147'\n",
    "plt.rcParams['text.color'] = COLOR\n",
    "plt.rcParams['axes.labelcolor'] = COLOR\n",
    "plt.rcParams['xtick.color'] = COLOR\n",
    "plt.rcParams['ytick.color'] = COLOR\n",
    "plt.rcParams['lines.color'] = COLOR\n",
    "plt.rcParams['lines.linewidth'] = 2\n",
    "\n",
    "\n",
    "fig, ax = plt.subplots(1, figsize = [7, 4.5])\n",
    "\n",
    "ax.hist(\n",
    "    year_station['Temperature'], \n",
    "    bins = 12, \n",
    "    color = '#002147', \n",
    "    lw = 5\n",
    ")\n",
    "\n",
    "ax.spines['top'].set_visible(False)\n",
    "ax.spines['right'].set_visible(False)\n",
    "\n",
    "ax.set_xlabel('($^\\circ$F)')\n",
    "ax.set_ylabel('Count')\n",
    "ax.set_title('STATION USC00519281')\n",
    "\n",
    "fig.autofmt_xdate()\n",
    "\n",
    "plt.legend()\n",
    "plt.tight_layout()\n",
    "plt.savefig('Histogram of Station USC00519281.png', transparent=True)\n",
    "\n",
    "plt.show()"
   ]
  },
  {
   "cell_type": "markdown",
   "metadata": {},
   "source": [
    "## -----------------------------------------------------------------------------------------------------------------------------------"
   ]
  },
  {
   "cell_type": "markdown",
   "metadata": {},
   "source": [
    "<center><h1>Part 2 - Climate App</center></h1>\n",
    "* Please see: climate.py"
   ]
  },
  {
   "cell_type": "markdown",
   "metadata": {},
   "source": [
    "## -----------------------------------------------------------------------------------------------------------------------------------"
   ]
  },
  {
   "cell_type": "markdown",
   "metadata": {},
   "source": [
    "### Optional: Other Recommended Analyses\n",
    "\n",
    "* The following are optional challenge queries. These are highly recommended to attempt, but not required for the homework."
   ]
  },
  {
   "cell_type": "markdown",
   "metadata": {},
   "source": [
    "## -----------------------------------------------------------------------------------------------------------------------------------"
   ]
  },
  {
   "cell_type": "markdown",
   "metadata": {},
   "source": [
    "<center><h1>Temperature Analysis 1</h1></center>\n",
    "\n",
    "* Hawaii is reputed to enjoy mild weather all year. Is there a meaningful difference between the temperature in, for example, June and December?\n",
    "* You may either use SQLAlchemy or pandas's read_csv() to perform this portion.\n",
    "* Identify the average temperature in June at all stations across all available years in the dataset. Do the same for December temperature.\n",
    "* Use the t-test to determine whether the difference in the means, if any, is statistically significant. Will you use a paired t-test, or an unpaired t-test? Why?"
   ]
  },
  {
   "cell_type": "code",
   "execution_count": null,
   "metadata": {},
   "outputs": [],
   "source": [
    "measurement = pd.read_sql(\"\"\"SELECT *\n",
    "                      FROM measurement;\"\"\", conn)\n",
    "station = pd.read_sql(\"\"\"SELECT *\n",
    "                         FROM station;\"\"\", conn)\n",
    "\n",
    "data = pd.merge(measurement, station, on = 'station', how = 'left')\n",
    "\n",
    "data['date'] = pd.to_datetime(data['date'])\n",
    "data['year'] = data['date'].dt.year\n",
    "data['month'] = data['date'].dt.month\n",
    "\n",
    "june = data.groupby(['year', 'month', 'station']).agg({'tobs': 'mean'}).reset_index()\n",
    "june = june[june['month'] == 6]\n",
    "\n",
    "december = data.groupby(['year', 'month', 'station']).agg({'tobs': 'mean'}).reset_index()\n",
    "december = december[december['month'] == 12]"
   ]
  },
  {
   "cell_type": "code",
   "execution_count": null,
   "metadata": {},
   "outputs": [],
   "source": [
    "ttest_ind(june['tobs'], december['tobs'])"
   ]
  },
  {
   "cell_type": "markdown",
   "metadata": {},
   "source": [
    "#### Answer:\n",
    "\n",
    "A paired t-test was used to compare 2 samples of mean temperature data from 9 stations, in two separate months, across 7 years. These two samples (June and December) consist of the same test subjects (weather station temperature recordings) but at two seasonally distinct times. If Hawaii truly does have mild weather all year, then our Null Hypothesis can be stated as: \n",
    "\n",
    "There is no difference between the mean temperatures of June and December ...\n",
    "\n",
    "$$H_0: = \\bar{x}_t$$\n",
    "$$H_A: \\neq \\bar{x}_t$$\n",
    "\n",
    "... where x bar sub t is our sample mean statistic of monthly temperatures and the Alternative Hypothesis that the means are unequal and therefore there is a difference between temperatures in June and December.\n",
    "\n",
    "#### Result:\n",
    "\n",
    "The t-test comparison shows that there is a statistically significant difference (pvalue = 1.285....e-16) between the two months worth of temperatures, allowing us to reject the Null Hypothesis and state that the difference in mean monthly temperatures is not likely due to chance but due to naturally occuring variation within each of the samples. "
   ]
  },
  {
   "cell_type": "markdown",
   "metadata": {},
   "source": [
    "#### Histogram comparison of June & December means ($^\\circ$F)"
   ]
  },
  {
   "cell_type": "code",
   "execution_count": null,
   "metadata": {},
   "outputs": [],
   "source": [
    "plt.rcParams.update({'font.size': 18})\n",
    "plt.rcParams['axes.axisbelow'] = True\n",
    "\n",
    "COLOR = '#002147'\n",
    "plt.rcParams['text.color'] = COLOR\n",
    "plt.rcParams['axes.labelcolor'] = COLOR\n",
    "plt.rcParams['xtick.color'] = COLOR\n",
    "plt.rcParams['ytick.color'] = COLOR\n",
    "plt.rcParams['lines.color'] = COLOR\n",
    "plt.rcParams['lines.linewidth'] = 2\n",
    "\n",
    "fig, ax = plt.subplots(1, figsize = [15.25, 6])\n",
    "\n",
    "ax.hist(\n",
    "    june['tobs'], \n",
    "    bins = int(round(np.sqrt(len(june['tobs'])), 0)), \n",
    "    color = '#4c4cff',\n",
    "    alpha = .85,\n",
    "    label = ['June']\n",
    ")\n",
    "\n",
    "ax.hist(\n",
    "    december['tobs'], \n",
    "    bins = int(round(np.sqrt(len(december['tobs'])), 0)), \n",
    "    color = '#002147',\n",
    "    alpha = .85,\n",
    "    label = ['December']\n",
    ")\n",
    "\n",
    "ax.axvline(\n",
    "    june['tobs'].mean(), \n",
    "    color = 'red', \n",
    "    lw = 5, \n",
    "    ls = '-.',\n",
    "    alpha = .5\n",
    ")\n",
    "ax.spines['top'].set_visible(False)\n",
    "ax.spines['right'].set_visible(False)\n",
    "\n",
    "ax.axvline(\n",
    "    december['tobs'].mean(), \n",
    "    color = 'red', \n",
    "    lw = 5, \n",
    "    ls = '-.',\n",
    "    alpha = .5,\n",
    "    label = 'means'\n",
    ")\n",
    "ax.spines['top'].set_visible(False)\n",
    "ax.spines['right'].set_visible(False)\n",
    "\n",
    "ax.set_xlabel('June & December ($^\\circ$F)')\n",
    "ax.set_ylabel('Count')\n",
    "ax.set_title('Histograms of June and December mean $^\\circ$F')\n",
    "\n",
    "plt.legend()\n",
    "plt.tight_layout()\n",
    "plt.savefig('Histograms of June and December means.png')\n",
    "\n",
    "plt.show()"
   ]
  },
  {
   "cell_type": "markdown",
   "metadata": {},
   "source": [
    "## -----------------------------------------------------------------------------------------------------------------------------------"
   ]
  },
  {
   "cell_type": "markdown",
   "metadata": {},
   "source": [
    "<center><h1>Temperature Analysis 2</h1></center>\n",
    "\n",
    "* The starter notebook contains a function called calc_temps that will accept a start date and end date in the format %Y-%m-%d and return the minimum, average, and maximum temperatures for that range of dates.\n",
    "* Use the calc_temps function to calculate the min, avg, and max temperatures for your trip using the matching dates from the previous year (i.e., use \"2017-01-01\" if your trip start date was \"2018-01-01\").\n",
    "\n",
    "* Plot the min, avg, and max temperature from your previous query as a bar chart.\n",
    "    * Use the average temperature as the bar height.\n",
    "    * Use the peak-to-peak (tmax-tmin) value as the y error bar (yerr)."
   ]
  },
  {
   "cell_type": "code",
   "execution_count": null,
   "metadata": {},
   "outputs": [],
   "source": [
    "# This function called `calc_temps` will accept start date and end date in the format '%Y-%m-%d' \n",
    "# and return the minimum, average, and maximum temperatures for that range of dates\n",
    "def calc_temps(start_date, end_date):\n",
    "    \"\"\"TMIN, TAVG, and TMAX for a list of dates.\n",
    "    \n",
    "    Args:\n",
    "        start_date (string): A date string in the format %Y-%m-%d\n",
    "        end_date (string): A date string in the format %Y-%m-%d\n",
    "        \n",
    "    Returns:\n",
    "        TMIN, TAVE, and TMAX\n",
    "    \"\"\"\n",
    "    \n",
    "    return session.query(func.min(Measurement.tobs), func.avg(Measurement.tobs), func.max(Measurement.tobs)).\\\n",
    "        filter(Measurement.date >= start_date).filter(Measurement.date <= end_date).all()\n",
    "\n",
    "# function usage example\n",
    "print(calc_temps('2012-02-28', '2012-03-05'))"
   ]
  },
  {
   "cell_type": "code",
   "execution_count": null,
   "metadata": {},
   "outputs": [],
   "source": [
    "# Use your previous function `calc_temps` to calculate the tmin, tavg, and tmax \n",
    "# for your trip using the previous year's data for those same dates.\n",
    "print(calc_temps('2015-11-01', '2015-11-15'))"
   ]
  },
  {
   "cell_type": "code",
   "execution_count": null,
   "metadata": {},
   "outputs": [],
   "source": [
    "# Plot the results from your previous query as a bar chart. \n",
    "# Use \"Trip Avg Temp\" as your Title\n",
    "# Use the average temperature for the y value\n",
    "# Use the peak-to-peak (tmax-tmin) value as the y error bar (yerr)\n",
    "trip_temps = calc_temps('2015-11-01', '2015-11-15')\n",
    "\n",
    "trip_dict = {\n",
    "    'Min Temp': trip_temps[0][0],\n",
    "    'Avg. Temp': trip_temps[0][1],\n",
    "    'Max Temp': trip_temps[0][2]\n",
    "}\n",
    "\n",
    "data = round(pd.DataFrame(trip_dict, index = ['Values']), 2)"
   ]
  },
  {
   "cell_type": "code",
   "execution_count": null,
   "metadata": {},
   "outputs": [],
   "source": [
    "data"
   ]
  },
  {
   "cell_type": "code",
   "execution_count": null,
   "metadata": {},
   "outputs": [],
   "source": [
    "plt.rcParams.update({'font.size': 16})\n",
    "plt.rcParams['axes.axisbelow'] = True\n",
    "\n",
    "COLOR = '#002147'\n",
    "plt.rcParams['text.color'] = COLOR\n",
    "plt.rcParams['axes.labelcolor'] = COLOR\n",
    "plt.rcParams['xtick.color'] = COLOR\n",
    "plt.rcParams['ytick.color'] = COLOR\n",
    "plt.rcParams['lines.color'] = COLOR\n",
    "plt.rcParams['lines.linewidth'] = 2\n",
    "\n",
    "label = ['Average Temperature']\n",
    "yerr = trip_temps[0][2] - trip_temps[0][0]\n",
    "\n",
    "fig, ax = plt.subplots(1, figsize = [4, 8])\n",
    "\n",
    "ax.bar(\n",
    "    label, \n",
    "    data['Avg. Temp'],\n",
    "    color = '#002147'\n",
    ")\n",
    "ax.errorbar(\n",
    "    label, \n",
    "    data['Avg. Temp'], \n",
    "    yerr = yerr, \n",
    "    ecolor = 'red', \n",
    "    elinewidth = 6, \n",
    "    uplims=True, \n",
    "    lolims=True, \n",
    "    capsize = 10\n",
    ")\n",
    "\n",
    "ax.set_title('Average Trip $^\\circ$F')\n",
    "\n",
    "plt.tight_layout()\n",
    "plt.savefig('Average Trip Temperature (Errorbar).png')\n",
    "\n",
    "plt.show()"
   ]
  },
  {
   "cell_type": "markdown",
   "metadata": {},
   "source": [
    "## -----------------------------------------------------------------------------------------------------------------------------------"
   ]
  },
  {
   "cell_type": "markdown",
   "metadata": {},
   "source": [
    "* Calculate the total amount of rainfall per weather station for your trip dates using the previous year's matching dates.\n",
    "* Sort this in descending order by precipitation amount and list the station, name, latitude, longitude, and elevation"
   ]
  },
  {
   "cell_type": "code",
   "execution_count": null,
   "metadata": {},
   "outputs": [],
   "source": [
    "\n",
    "rainfall = pd.read_sql('''SELECT m.date AS Date, \n",
    "                                 m.station AS Station,\n",
    "                                 s.name AS Name,\n",
    "                                 sum(m.prcp) AS Precipitation,\n",
    "                                 s.elevation AS Elevation,\n",
    "                                 s.latitude AS Lat,\n",
    "                                 s.longitude AS Lon\n",
    "                           FROM measurement AS m                           \n",
    "                           LEFT JOIN station AS s\n",
    "                           ON m.station = s.station\n",
    "                           WHERE m.date > '2014-10-31'\n",
    "                           AND m.date < '2014-11-16'\n",
    "                           GROUP BY m.station, m.date\n",
    "                           ORDER BY Precipitation DESC;''', conn)"
   ]
  },
  {
   "cell_type": "code",
   "execution_count": null,
   "metadata": {},
   "outputs": [],
   "source": [
    "rainfall.head()"
   ]
  },
  {
   "cell_type": "markdown",
   "metadata": {},
   "source": [
    "## -----------------------------------------------------------------------------------------------------------------------------------"
   ]
  },
  {
   "cell_type": "markdown",
   "metadata": {},
   "source": [
    "<center><h1>Daily Rainfall Average</h1></center>\n",
    "\n",
    "* Calculate the rainfall per weather station using the previous year's matching dates.\n",
    "* Calculate the daily normals. Normals are the averages for the min, avg, and max temperatures.\n",
    "* You are provided with a function called daily_normals that will calculate the daily normals for a specific date. This date string will be in the format %m-%d. Be sure to use all historic tobs that match that date string.\n",
    "* Create a list of dates for your trip in the format %m-%d. Use the daily_normals function to calculate the normals for each date string and append the results to a list.\n",
    "* Load the list of daily normals into a Pandas DataFrame and set the index equal to the date.\n",
    "* Use Pandas to plot an area plot (stacked=False) for the daily normals."
   ]
  },
  {
   "cell_type": "code",
   "execution_count": null,
   "metadata": {},
   "outputs": [],
   "source": [
    "# Create a query that will calculate the daily normals \n",
    "# (i.e. the averages for tmin, tmax, and tavg for all historic data matching a specific month and day)\n",
    "def daily_normals(date):\n",
    "    \"\"\"Daily Normals.\n",
    "    \n",
    "    Args:\n",
    "        date (str): A date string in the format '%Y-%m-%d'\n",
    "        \n",
    "    Returns:\n",
    "        A list of tuples containing the daily normals, tmin, tavg, and tmax\n",
    "    \n",
    "    \"\"\"\n",
    "    \n",
    "    sel = [func.min(Measurement.tobs), func.avg(Measurement.tobs), func.max(Measurement.tobs)]\n",
    "    return session.query(*sel).filter(func.strftime(\"%Y-%m-%d\", Measurement.date) == date).all()\n",
    "    \n",
    "daily_normals(\"2015-01-01\")"
   ]
  },
  {
   "cell_type": "markdown",
   "metadata": {},
   "source": [
    "* calculate the daily normals for your trip\n",
    "* push each tuple of calculations into a list called `normals`\n",
    "* Set the start and end date of the trip\n",
    "* Use the start and end date to create a range of dates\n",
    "* Stip off the year and save a list of %m-%d strings\n",
    "* Load the previous query results into a Pandas DataFrame and add the trip_dates range as the date index"
   ]
  },
  {
   "cell_type": "code",
   "execution_count": null,
   "metadata": {},
   "outputs": [],
   "source": [
    "date_range = ['2015-11-01', '2015-11-02', '2015-11-03', '2015-11-04', '2015-11-05', '2015-11-06', '2015-11-07', '2015-11-08', \n",
    "              '2015-11-09', '2015-11-10', '2015-11-11', '2015-11-12', '2015-11-13', '2015-11-14', '2015-11-15']\n",
    "\n",
    "# Loop through the list of %m-%d strings and calculate the normals for each date\n",
    "normals = []\n",
    "for day in date_range:\n",
    "    normals.append(daily_normals(day))\n",
    "\n",
    "mins = []\n",
    "avgs = []\n",
    "maxs = []    \n",
    "\n",
    "for i in normals:\n",
    "    mins.append(i[0][0])\n",
    "    avgs.append(i[0][1])\n",
    "    maxs.append(i[0][2])\n",
    "\n",
    "normal_dict = {\n",
    "    'Min': mins,\n",
    "    'Avg': avgs,\n",
    "    'Max': maxs,\n",
    "    'Dates': date_range\n",
    "}\n",
    "\n",
    "normals = round(pd.DataFrame(normal_dict), 2)\n",
    "normals['Dates'] = pd.to_datetime(normals['Dates'], format = '%Y-%m-%d')"
   ]
  },
  {
   "cell_type": "code",
   "execution_count": null,
   "metadata": {},
   "outputs": [],
   "source": [
    "normals"
   ]
  },
  {
   "cell_type": "code",
   "execution_count": null,
   "metadata": {},
   "outputs": [],
   "source": [
    "# Plot the daily normals as an area plot with `stacked=False`\n",
    "plt.rcParams.update({'font.size': 20})\n",
    "plt.rcParams['axes.axisbelow'] = True\n",
    "\n",
    "COLOR = '#002147'\n",
    "plt.rcParams['text.color'] = COLOR\n",
    "plt.rcParams['axes.labelcolor'] = COLOR\n",
    "plt.rcParams['xtick.color'] = COLOR\n",
    "plt.rcParams['ytick.color'] = COLOR\n",
    "plt.rcParams['lines.color'] = COLOR\n",
    "plt.rcParams['lines.linewidth'] = 2\n",
    "\n",
    "days = mdates.DayLocator()\n",
    "days_fmt = mdates.DateFormatter('%d')\n",
    "\n",
    "min_values = normals['Min']\n",
    "avg_values = normals['Avg']\n",
    "max_values = normals['Max']\n",
    "date_values = normals['Dates']\n",
    "\n",
    "fig, ax = plt.subplots(1, figsize = [12.5, 7])\n",
    "\n",
    "ax.plot(\n",
    "    date_values, \n",
    "    min_values, \n",
    "    fillstyle = 'bottom', \n",
    "    color = '#ccccff',\n",
    "    lw = 5\n",
    ")\n",
    "\n",
    "ax.fill_between(\n",
    "    date_values, \n",
    "    min_values, \n",
    "    color = '#ccccff', \n",
    "    alpha = .7\n",
    ")\n",
    "\n",
    "ax.plot(\n",
    "    date_values, \n",
    "    avg_values, \n",
    "    fillstyle = 'bottom', \n",
    "    color = '#4c4cff',\n",
    "    lw = 5\n",
    ")\n",
    "\n",
    "ax.fill_between(\n",
    "    date_values, \n",
    "    min_values, \n",
    "    avg_values, \n",
    "    color = '#4c4cff', \n",
    "    alpha = .7\n",
    ")\n",
    "\n",
    "ax.plot(\n",
    "    date_values,\n",
    "    max_values,\n",
    "    fillstyle = 'bottom',\n",
    "    color = '#002147',\n",
    "    lw = 5\n",
    ")\n",
    "\n",
    "ax.fill_between(\n",
    "    date_values,\n",
    "    avg_values, \n",
    "    max_values, \n",
    "    color = '#002147', \n",
    "    alpha = .7\n",
    ")\n",
    "\n",
    "ax.xaxis.set_major_locator(days)\n",
    "ax.xaxis.set_major_formatter(days_fmt)\n",
    "\n",
    "ax.set_ylim(0, 90)\n",
    "\n",
    "ax.set_xlabel('Days')\n",
    "ax.set_ylabel('$^\\circ$F')\n",
    "ax.set_title('Daily Normals')\n",
    "\n",
    "ax.spines['top'].set_visible(False)\n",
    "ax.spines['right'].set_visible(False)\n",
    "\n",
    "plt.legend()\n",
    "fig.autofmt_xdate()\n",
    "\n",
    "plt.tight_layout()\n",
    "plt.savefig('Daily Normals.png', transparent = True)\n",
    "\n",
    "plt.show()"
   ]
  },
  {
   "cell_type": "code",
   "execution_count": null,
   "metadata": {},
   "outputs": [],
   "source": []
  }
 ],
 "metadata": {
  "kernel_info": {
   "name": "python3"
  },
  "kernelspec": {
   "display_name": "Python 3",
   "language": "python",
   "name": "python3"
  },
  "language_info": {
   "codemirror_mode": {
    "name": "ipython",
    "version": 3
   },
   "file_extension": ".py",
   "mimetype": "text/x-python",
   "name": "python",
   "nbconvert_exporter": "python",
   "pygments_lexer": "ipython3",
   "version": "3.7.3"
  },
  "nteract": {
   "version": "0.12.3"
  },
  "varInspector": {
   "cols": {
    "lenName": 16,
    "lenType": 16,
    "lenVar": 40
   },
   "kernels_config": {
    "python": {
     "delete_cmd_postfix": "",
     "delete_cmd_prefix": "del ",
     "library": "var_list.py",
     "varRefreshCmd": "print(var_dic_list())"
    },
    "r": {
     "delete_cmd_postfix": ") ",
     "delete_cmd_prefix": "rm(",
     "library": "var_list.r",
     "varRefreshCmd": "cat(var_dic_list()) "
    }
   },
   "types_to_exclude": [
    "module",
    "function",
    "builtin_function_or_method",
    "instance",
    "_Feature"
   ],
   "window_display": false
  }
 },
 "nbformat": 4,
 "nbformat_minor": 2
}
