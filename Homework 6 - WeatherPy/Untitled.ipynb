{
 "cells": [
  {
   "cell_type": "code",
   "execution_count": 1,
   "metadata": {},
   "outputs": [],
   "source": [
    "\n"
   ]
  },
  {
   "cell_type": "code",
   "execution_count": 9,
   "metadata": {},
   "outputs": [
    {
     "data": {
      "text/plain": [
       "549"
      ]
     },
     "execution_count": 9,
     "metadata": {},
     "output_type": "execute_result"
    }
   ],
   "source": []
  },
  {
   "cell_type": "code",
   "execution_count": 7,
   "metadata": {},
   "outputs": [
    {
     "data": {
      "text/html": [
       "<div>\n",
       "<style scoped>\n",
       "    .dataframe tbody tr th:only-of-type {\n",
       "        vertical-align: middle;\n",
       "    }\n",
       "\n",
       "    .dataframe tbody tr th {\n",
       "        vertical-align: top;\n",
       "    }\n",
       "\n",
       "    .dataframe thead th {\n",
       "        text-align: right;\n",
       "    }\n",
       "</style>\n",
       "<table border=\"1\" class=\"dataframe\">\n",
       "  <thead>\n",
       "    <tr style=\"text-align: right;\">\n",
       "      <th></th>\n",
       "      <th>name</th>\n",
       "      <th>country</th>\n",
       "      <th>longitude</th>\n",
       "      <th>latitude</th>\n",
       "      <th>humidity</th>\n",
       "      <th>temperature</th>\n",
       "      <th>wind_speed</th>\n",
       "    </tr>\n",
       "    <tr>\n",
       "      <th>city_id</th>\n",
       "      <th></th>\n",
       "      <th></th>\n",
       "      <th></th>\n",
       "      <th></th>\n",
       "      <th></th>\n",
       "      <th></th>\n",
       "      <th></th>\n",
       "    </tr>\n",
       "  </thead>\n",
       "  <tbody>\n",
       "    <tr>\n",
       "      <th>5855927</th>\n",
       "      <td>Hilo</td>\n",
       "      <td>US</td>\n",
       "      <td>-155.08</td>\n",
       "      <td>19.71</td>\n",
       "      <td>61</td>\n",
       "      <td>299.430</td>\n",
       "      <td>3.60</td>\n",
       "    </tr>\n",
       "    <tr>\n",
       "      <th>3833367</th>\n",
       "      <td>Ushuaia</td>\n",
       "      <td>AR</td>\n",
       "      <td>-68.31</td>\n",
       "      <td>-54.81</td>\n",
       "      <td>98</td>\n",
       "      <td>277.150</td>\n",
       "      <td>1.50</td>\n",
       "    </tr>\n",
       "    <tr>\n",
       "      <th>4912698</th>\n",
       "      <td>Streator</td>\n",
       "      <td>US</td>\n",
       "      <td>-88.84</td>\n",
       "      <td>41.12</td>\n",
       "      <td>100</td>\n",
       "      <td>294.990</td>\n",
       "      <td>3.26</td>\n",
       "    </tr>\n",
       "    <tr>\n",
       "      <th>1006984</th>\n",
       "      <td>East London</td>\n",
       "      <td>ZA</td>\n",
       "      <td>27.91</td>\n",
       "      <td>-33.02</td>\n",
       "      <td>78</td>\n",
       "      <td>282.813</td>\n",
       "      <td>2.01</td>\n",
       "    </tr>\n",
       "    <tr>\n",
       "      <th>496381</th>\n",
       "      <td>Severnoye</td>\n",
       "      <td>RU</td>\n",
       "      <td>52.54</td>\n",
       "      <td>54.09</td>\n",
       "      <td>82</td>\n",
       "      <td>294.993</td>\n",
       "      <td>1.25</td>\n",
       "    </tr>\n",
       "  </tbody>\n",
       "</table>\n",
       "</div>"
      ],
      "text/plain": [
       "                name country  longitude  latitude  humidity  temperature  \\\n",
       "city_id                                                                    \n",
       "5855927         Hilo      US    -155.08     19.71        61      299.430   \n",
       "3833367      Ushuaia      AR     -68.31    -54.81        98      277.150   \n",
       "4912698     Streator      US     -88.84     41.12       100      294.990   \n",
       "1006984  East London      ZA      27.91    -33.02        78      282.813   \n",
       "496381     Severnoye      RU      52.54     54.09        82      294.993   \n",
       "\n",
       "         wind_speed  \n",
       "city_id              \n",
       "5855927        3.60  \n",
       "3833367        1.50  \n",
       "4912698        3.26  \n",
       "1006984        2.01  \n",
       "496381         1.25  "
      ]
     },
     "execution_count": 7,
     "metadata": {},
     "output_type": "execute_result"
    }
   ],
   "source": [
    "city_data.head()"
   ]
  },
  {
   "cell_type": "code",
   "execution_count": 8,
   "metadata": {},
   "outputs": [],
   "source": [
    "city_data.to_csv('city_data.csv')"
   ]
  },
  {
   "cell_type": "code",
   "execution_count": null,
   "metadata": {},
   "outputs": [],
   "source": []
  }
 ],
 "metadata": {
  "kernelspec": {
   "display_name": "Python 3",
   "language": "python",
   "name": "python3"
  },
  "language_info": {
   "codemirror_mode": {
    "name": "ipython",
    "version": 3
   },
   "file_extension": ".py",
   "mimetype": "text/x-python",
   "name": "python",
   "nbconvert_exporter": "python",
   "pygments_lexer": "ipython3",
   "version": "3.7.3"
  }
 },
 "nbformat": 4,
 "nbformat_minor": 2
}
