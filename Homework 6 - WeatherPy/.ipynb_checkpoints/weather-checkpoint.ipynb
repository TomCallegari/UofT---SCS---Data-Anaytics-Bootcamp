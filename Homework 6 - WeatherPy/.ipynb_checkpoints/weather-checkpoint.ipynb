{
 "cells": [
  {
   "cell_type": "markdown",
   "metadata": {},
   "source": [
    "### Cities Index DataFrame"
   ]
  },
  {
   "cell_type": "code",
   "execution_count": 1,
   "metadata": {},
   "outputs": [],
   "source": [
    "# Import needed functions, dependencies and packages\n",
    "from requests import get\n",
    "from config import api_key\n",
    "import pandas as pd\n",
    "import json\n",
    "import random\n",
    "\n",
    "with open('city_list.json', 'r', encoding='utf-8') as file:\n",
    "    cities_list = json.load(file)\n",
    "    \n",
    "city_df = pd.DataFrame()\n",
    "\n",
    "for city in cities_list:\n",
    "    city_id = city['id']\n",
    "    city_name = city['name']\n",
    "    city_country = city['country']\n",
    "    city_lon = city['coord']['lon']\n",
    "    city_lat = city['coord']['lat']\n",
    "    \n",
    "    city_dict = {\n",
    "        'city_id': city_id,\n",
    "        'city_name': city_name,\n",
    "        'city_country': city_country,\n",
    "        'city_lon': city_lon,\n",
    "        'city_lat': city_lat\n",
    "    }\n",
    "    \n",
    "    temp_df = pd.DataFrame(city_dict, index = ['city']).set_index('city_id')\n",
    "    \n",
    "    city_df = pd.concat([city_df, temp_df])"
   ]
  },
  {
   "cell_type": "code",
   "execution_count": 4,
   "metadata": {},
   "outputs": [
    {
     "data": {
      "text/html": [
       "<div>\n",
       "<style scoped>\n",
       "    .dataframe tbody tr th:only-of-type {\n",
       "        vertical-align: middle;\n",
       "    }\n",
       "\n",
       "    .dataframe tbody tr th {\n",
       "        vertical-align: top;\n",
       "    }\n",
       "\n",
       "    .dataframe thead th {\n",
       "        text-align: right;\n",
       "    }\n",
       "</style>\n",
       "<table border=\"1\" class=\"dataframe\">\n",
       "  <thead>\n",
       "    <tr style=\"text-align: right;\">\n",
       "      <th></th>\n",
       "      <th>city_name</th>\n",
       "      <th>city_country</th>\n",
       "      <th>city_lon</th>\n",
       "      <th>city_lat</th>\n",
       "    </tr>\n",
       "    <tr>\n",
       "      <th>city_id</th>\n",
       "      <th></th>\n",
       "      <th></th>\n",
       "      <th></th>\n",
       "      <th></th>\n",
       "    </tr>\n",
       "  </thead>\n",
       "  <tbody>\n",
       "    <tr>\n",
       "      <th>707860</th>\n",
       "      <td>Hurzuf</td>\n",
       "      <td>UA</td>\n",
       "      <td>34.283333</td>\n",
       "      <td>44.549999</td>\n",
       "    </tr>\n",
       "    <tr>\n",
       "      <th>519188</th>\n",
       "      <td>Novinki</td>\n",
       "      <td>RU</td>\n",
       "      <td>37.666668</td>\n",
       "      <td>55.683334</td>\n",
       "    </tr>\n",
       "    <tr>\n",
       "      <th>1283378</th>\n",
       "      <td>Gorkhā</td>\n",
       "      <td>NP</td>\n",
       "      <td>84.633331</td>\n",
       "      <td>28.000000</td>\n",
       "    </tr>\n",
       "    <tr>\n",
       "      <th>1270260</th>\n",
       "      <td>State of Haryāna</td>\n",
       "      <td>IN</td>\n",
       "      <td>76.000000</td>\n",
       "      <td>29.000000</td>\n",
       "    </tr>\n",
       "    <tr>\n",
       "      <th>708546</th>\n",
       "      <td>Holubynka</td>\n",
       "      <td>UA</td>\n",
       "      <td>33.900002</td>\n",
       "      <td>44.599998</td>\n",
       "    </tr>\n",
       "  </tbody>\n",
       "</table>\n",
       "</div>"
      ],
      "text/plain": [
       "                city_name city_country   city_lon   city_lat\n",
       "city_id                                                     \n",
       "707860             Hurzuf           UA  34.283333  44.549999\n",
       "519188            Novinki           RU  37.666668  55.683334\n",
       "1283378            Gorkhā           NP  84.633331  28.000000\n",
       "1270260  State of Haryāna           IN  76.000000  29.000000\n",
       "708546          Holubynka           UA  33.900002  44.599998"
      ]
     },
     "execution_count": 4,
     "metadata": {},
     "output_type": "execute_result"
    }
   ],
   "source": [
    "city_df.head()"
   ]
  },
  {
   "cell_type": "code",
   "execution_count": 5,
   "metadata": {},
   "outputs": [
    {
     "name": "stdout",
     "output_type": "stream",
     "text": [
      "<class 'pandas.core.frame.DataFrame'>\n",
      "Int64Index: 209579 entries, 707860 to 596826\n",
      "Data columns (total 4 columns):\n",
      "city_name       209579 non-null object\n",
      "city_country    209579 non-null object\n",
      "city_lon        209579 non-null float64\n",
      "city_lat        209579 non-null float64\n",
      "dtypes: float64(2), object(2)\n",
      "memory usage: 8.0+ MB\n"
     ]
    }
   ],
   "source": [
    "city_df.info()"
   ]
  },
  {
   "cell_type": "code",
   "execution_count": 6,
   "metadata": {},
   "outputs": [],
   "source": [
    "city_df.to_csv('city_index_df.csv')"
   ]
  }
 ],
 "metadata": {
  "kernelspec": {
   "display_name": "Python 3",
   "language": "python",
   "name": "python3"
  },
  "language_info": {
   "codemirror_mode": {
    "name": "ipython",
    "version": 3
   },
   "file_extension": ".py",
   "mimetype": "text/x-python",
   "name": "python",
   "nbconvert_exporter": "python",
   "pygments_lexer": "ipython3",
   "version": "3.7.3"
  }
 },
 "nbformat": 4,
 "nbformat_minor": 2
}
