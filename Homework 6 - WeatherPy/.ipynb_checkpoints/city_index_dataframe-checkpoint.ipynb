{
 "cells": [
  {
   "cell_type": "markdown",
   "metadata": {},
   "source": [
    "### Cities Index DataFrame\n",
    "\n",
    "##### * Caution: This takes awhile."
   ]
  },
  {
   "cell_type": "code",
   "execution_count": null,
   "metadata": {},
   "outputs": [],
   "source": [
    "# Import needed functions, dependencies and packages\n",
    "from requests import get\n",
    "from config import api_key\n",
    "import pandas as pd\n",
    "import json\n",
    "import random\n",
    "\n",
    "# Open the raw JSON cities list downloaded from from OpenWeather.org\n",
    "with open('city_list.json', 'r', encoding='utf-8') as file:\n",
    "    cities_list = json.load(file)\n",
    "\n",
    "# Initialize an empty dataframe to iteratively add each row of city data\n",
    "city_df = pd.DataFrame()\n",
    "\n",
    "# Simple for lopp to collect data from each dictionary element of the JSON file\n",
    "for city in cities_list:\n",
    "    \n",
    "    # Select ID, Name, Country and geographical coordinates for each city\n",
    "    # and place into a dictionary\n",
    "    city_dict = {\n",
    "        'city_id': city['id'],\n",
    "        'city_name': city['name'],\n",
    "        'city_country': city['country'],\n",
    "        'city_lon': city['coord']['lon'],\n",
    "        'city_lat': city['coord']['lat']\n",
    "    }\n",
    "    \n",
    "    # Build a temporary single row DataFrame for each city from the city dictionary\n",
    "    temp_df = pd.DataFrame(city_dict, index = ['city']).set_index('city_id')\n",
    "    \n",
    "    # Concatenate each city as a row to master city_df DataFrame\n",
    "    city_df = pd.concat([city_df, temp_df])"
   ]
  },
  {
   "cell_type": "code",
   "execution_count": null,
   "metadata": {},
   "outputs": [],
   "source": [
    "# Preview a random sample of the city_df DataFrame\n",
    "city_df.sample(20)"
   ]
  },
  {
   "cell_type": "code",
   "execution_count": null,
   "metadata": {},
   "outputs": [],
   "source": [
    "# Preview meta data of city_df\n",
    "city_df.info()"
   ]
  },
  {
   "cell_type": "code",
   "execution_count": null,
   "metadata": {},
   "outputs": [],
   "source": [
    "# Write city_df to csv as city_index_df\n",
    "city_df.to_csv('city_index_df.csv')"
   ]
  }
 ],
 "metadata": {
  "kernelspec": {
   "display_name": "Python 3",
   "language": "python",
   "name": "python3"
  },
  "language_info": {
   "codemirror_mode": {
    "name": "ipython",
    "version": 3
   },
   "file_extension": ".py",
   "mimetype": "text/x-python",
   "name": "python",
   "nbconvert_exporter": "python",
   "pygments_lexer": "ipython3",
   "version": "3.7.3"
  }
 },
 "nbformat": 4,
 "nbformat_minor": 2
}
