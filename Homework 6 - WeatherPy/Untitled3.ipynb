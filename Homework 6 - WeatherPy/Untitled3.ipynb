{
 "cells": [
  {
   "cell_type": "code",
   "execution_count": 1,
   "metadata": {},
   "outputs": [],
   "source": [
    "\n",
    "# Dependencies and Setup\n",
    "import matplotlib.pyplot as plt\n",
    "import pandas as pd\n",
    "import numpy as np\n",
    "import json\n",
    "from requests import get\n",
    "from time import sleep\n",
    "from pprint import pprint\n",
    "from config import api_key\n",
    "from datetime import datetime\n",
    "\n",
    "plt.rcParams.update({'font.size': 16})"
   ]
  },
  {
   "cell_type": "code",
   "execution_count": null,
   "metadata": {},
   "outputs": [],
   "source": [
    "\n",
    "# Incorporated citipy to determine city based on latitude and longitude\n",
    "from citipy import citipy\n",
    "\n",
    "# Output File (CSV)\n",
    "output_data_file = \"output_data/cities.csv\"\n",
    "\n",
    "# Range of latitudes and longitudes\n",
    "lat_range = (-90, 90)\n",
    "lng_range = (-180, 180)\n",
    "\n",
    "# List for holding lat_lngs and cities\n",
    "lat_lngs = []\n",
    "cities = []\n",
    "\n",
    "# Create a set of random lat and lng combinations\n",
    "lats = np.random.uniform(low=-90.000, high=90.000, size=1500)\n",
    "lngs = np.random.uniform(low=-180.000, high=180.000, size=1500)\n",
    "\n",
    "lat_lngs = zip(lats, lngs)\n",
    "\n",
    "# Identify nearest city for each lat, lng combination\n",
    "for lat_lng in lat_lngs:\n",
    "    \n",
    "    city = citipy.nearest_city(lat_lng[0], lat_lng[1]).city_name\n",
    "    \n",
    "    # If the city is unique, then add it to a our cities list\n",
    "    if city not in cities:\n",
    "        cities.append(city)\n"
   ]
  },
  {
   "cell_type": "code",
   "execution_count": null,
   "metadata": {},
   "outputs": [],
   "source": [
    "\n",
    "# Setup the cities iterator\n",
    "city_iter = [str(i) for i in cities]\n",
    "\n",
    "# Initialize needed objects\n",
    "city_count = 0\n",
    "city = pd.DataFrame()\n"
   ]
  },
  {
   "cell_type": "code",
   "execution_count": null,
   "metadata": {},
   "outputs": [],
   "source": [
    "\n",
    "# For loop through the cities iterator, pull needed data from the JSON request object\n",
    "for city in city_iter:\n",
    "    \n",
    "    response = get('http://api.openweathermap.org/data/2.5/weather?q='\n",
    "                   + city\n",
    "                   + '&APPID='\n",
    "                   + api_key).json()\n",
    "    \n",
    "    # Pause for 1.175 seconds (70.5 seconds for 60 requests) \n",
    "    # to ensure compliance with request rate of 60 calls per minute\n",
    "    sleep(1.175)\n",
    "    \n",
    "    try:\n",
    "        \n",
    "        # Pull needed data from JSON response object and insert into a dictionary\n",
    "        city_dict = {\n",
    "            'city_id': response['id'],\n",
    "            'name': response['name'],\n",
    "            'country': response['sys']['country'],\n",
    "            'longitude': response['coord']['lon'],\n",
    "            'latitude': response['coord']['lat'],\n",
    "            'cloudiness': response['clouds']['all'],\n",
    "            'humidity': response['main']['humidity'],\n",
    "            'temperature': response['main']['temp'],\n",
    "            'wind_speed': response['wind']['speed'],\n",
    "            'time': response['dt']\n",
    "        }\n",
    "        \n",
    "        # Create a temporary single row dataframe with the current cities data\n",
    "        temp_df = pd.DataFrame(city_dict, index = ['city']).set_index('city_id')  \n",
    "        \n",
    "        # Add the temporary dataframe row to the pre-intialized city_data DataFrame\n",
    "        city_data = pd.concat([city, temp_df])\n",
    "        \n",
    "        # Add 1 for each city iteration to the city counter\n",
    "        city_count += 1\n",
    "        \n",
    "        # Collect the current cities name\n",
    "        city_name = city_dict['name']    \n",
    "            \n",
    "        # Re-intialise the city dictionary to be empty for the next interation\n",
    "        city_dict = {}\n",
    "    \n",
    "    # Raise a KeyError if a cities JSON response does not include any of the needed data\n",
    "    except KeyError as e:\n",
    "        \n",
    "        print(f'Skipping city ... : KeyError: {e} not found.') \n",
    "    \n",
    "    print(f'Accessing city # {city_count} | {city_name}')"
   ]
  },
  {
   "cell_type": "code",
   "execution_count": null,
   "metadata": {},
   "outputs": [],
   "source": [
    "len(city)"
   ]
  },
  {
   "cell_type": "code",
   "execution_count": null,
   "metadata": {},
   "outputs": [],
   "source": [
    "city.info()"
   ]
  },
  {
   "cell_type": "code",
   "execution_count": null,
   "metadata": {},
   "outputs": [],
   "source": [
    "city.sample(20)"
   ]
  },
  {
   "cell_type": "code",
   "execution_count": null,
   "metadata": {},
   "outputs": [],
   "source": [
    "city = city.rename(columns={\n",
    "    'name': 'City',\n",
    "    'country': 'Country',\n",
    "    'longitude': 'Lon',\n",
    "    'latitude': 'Lat',\n",
    "    'temperature': 'Temp',\n",
    "    'wind_speed': 'Wind Speed',\n",
    "    'humidity': 'Humidity',\n",
    "    'cloudiness': 'Cloudiness (%)',\n",
    "    'time': 'Time'\n",
    "})\n",
    "city = city.reset_index()\n",
    "\n",
    "city['Time'] = pd.to_datetime(city['Time'], unit = 's')\n",
    "\n",
    "request_time = city['Time'][0]\n",
    "\n",
    "city['Temp'] = round(city['Temp'] - 273.15, 2)"
   ]
  },
  {
   "cell_type": "code",
   "execution_count": null,
   "metadata": {},
   "outputs": [],
   "source": [
    "city.head()"
   ]
  },
  {
   "cell_type": "code",
   "execution_count": null,
   "metadata": {},
   "outputs": [],
   "source": [
    "fig, ax = plt.subplots(1, figsize = [12.5, 7])\n",
    "\n",
    "ax.scatter(\n",
    "    city['Lat'], \n",
    "    city['Temp'],\n",
    "    c = '#002147', \n",
    "    alpha = 0.5, \n",
    "    edgecolors = 'black', \n",
    "    linewidths = 1,\n",
    "    s = 150\n",
    ")\n",
    "\n",
    "ax.set_ylabel('Temperature')\n",
    "ax.set_xlabel('Latitude')\n",
    "ax.set_title(f'City Latitude vs. Temperature ({request_time} EST)')\n",
    "\n",
    "plt.grid(b = True, which = 'major', color = '#666666', linestyle = '-')\n",
    "plt.minorticks_on()\n",
    "plt.grid(b = True, which = 'minor', color = '#666666', linestyle = '-', alpha = 0.2)\n",
    "\n",
    "plt.savefig('WeatherPy - Temperature.png')\n",
    "\n",
    "plt.show()"
   ]
  },
  {
   "cell_type": "code",
   "execution_count": null,
   "metadata": {},
   "outputs": [],
   "source": [
    "fig, ax = plt.subplots(1, figsize = [12.5, 7])\n",
    "\n",
    "ax.scatter(\n",
    "    city['Lat'], \n",
    "    city['Humidity'], \n",
    "    c = '#002147', \n",
    "    alpha = 0.5, \n",
    "    edgecolors = 'black', \n",
    "    linewidths = 1,\n",
    "    s = 150\n",
    ")\n",
    "\n",
    "ax.set_ylabel('Humidity')\n",
    "ax.set_xlabel('Latitude')\n",
    "ax.set_title('City Latitude vs. Humidity')\n",
    "\n",
    "plt.grid(b = True, which = 'major', color = '#666666', linestyle = '-')\n",
    "plt.minorticks_on()\n",
    "plt.grid(b = True, which = 'minor', color = '#666666', linestyle = '-', alpha = 0.2)\n",
    "\n",
    "plt.savefig('WeatherPy - Humidity.png')\n",
    "\n",
    "plt.show()"
   ]
  },
  {
   "cell_type": "code",
   "execution_count": null,
   "metadata": {},
   "outputs": [],
   "source": []
  }
 ],
 "metadata": {
  "kernelspec": {
   "display_name": "Python 3",
   "language": "python",
   "name": "python3"
  },
  "language_info": {
   "codemirror_mode": {
    "name": "ipython",
    "version": 3
   },
   "file_extension": ".py",
   "mimetype": "text/x-python",
   "name": "python",
   "nbconvert_exporter": "python",
   "pygments_lexer": "ipython3",
   "version": "3.7.3"
  }
 },
 "nbformat": 4,
 "nbformat_minor": 2
}
