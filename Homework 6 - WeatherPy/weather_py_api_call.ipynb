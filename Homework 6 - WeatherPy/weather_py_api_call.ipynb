{
 "cells": [
  {
   "cell_type": "code",
   "execution_count": null,
   "metadata": {},
   "outputs": [],
   "source": [
    "\n",
    "# Dependencies and Setup\n",
    "import matplotlib.pyplot as plt\n",
    "import pandas as pd\n",
    "import numpy as np\n",
    "import json\n",
    "from requests import get\n",
    "from time import sleep\n",
    "from pprint import pprint\n",
    "from config import api_key\n",
    "from datetime import datetime\n"
   ]
  },
  {
   "cell_type": "code",
   "execution_count": null,
   "metadata": {},
   "outputs": [],
   "source": [
    "\n",
    "# Incorporated citipy to determine city based on latitude and longitude\n",
    "from citipy import citipy\n",
    "\n",
    "# Output File (CSV)\n",
    "output_data_file = \"output_data/cities.csv\"\n",
    "\n",
    "# Range of latitudes and longitudes\n",
    "lat_range = (-90, 90)\n",
    "lng_range = (-180, 180)\n",
    "\n",
    "# List for holding lat_lngs and cities\n",
    "lat_lngs = []\n",
    "cities = []\n",
    "\n",
    "# Create a set of random lat and lng combinations\n",
    "lats = np.random.uniform(low=-90.000, high=90.000, size=1500)\n",
    "lngs = np.random.uniform(low=-180.000, high=180.000, size=1500)\n",
    "\n",
    "lat_lngs = zip(lats, lngs)\n",
    "\n",
    "# Identify nearest city for each lat, lng combination\n",
    "for lat_lng in lat_lngs:\n",
    "    \n",
    "    city = citipy.nearest_city(lat_lng[0], lat_lng[1]).city_name\n",
    "    \n",
    "    # If the city is unique, then add it to a our cities list\n",
    "    if city not in cities:\n",
    "        cities.append(city)\n"
   ]
  },
  {
   "cell_type": "code",
   "execution_count": null,
   "metadata": {},
   "outputs": [],
   "source": [
    "\n",
    "# Setup the cities iterator\n",
    "city_iter = [str(i) for i in cities]\n",
    "\n",
    "# Initialize needed objects\n",
    "city_count = 0\n",
    "city_data = pd.DataFrame()\n"
   ]
  },
  {
   "cell_type": "code",
   "execution_count": null,
   "metadata": {},
   "outputs": [],
   "source": [
    "\n",
    "# For loop through the cities iterator, pull needed data from the JSON request object\n",
    "for city in city_iter:\n",
    "    \n",
    "    response = get('http://api.openweathermap.org/data/2.5/weather?q='\n",
    "                   + city\n",
    "                   + '&APPID='\n",
    "                   + api_key).json()\n",
    "    \n",
    "    # Pause for 1.175 seconds (70.5 seconds for 60 requests) \n",
    "    # to ensure compliance with request rate of 60 calls per minute\n",
    "    sleep(1.175)\n",
    "    \n",
    "    try:\n",
    "        \n",
    "        # Pull needed data from JSON response object and insert into a dictionary\n",
    "        city_dict = {\n",
    "            'city_id': response['id'],\n",
    "            'name': response['name'],\n",
    "            'country': response['sys']['country'],\n",
    "            'longitude': response['coord']['lon'],\n",
    "            'latitude': response['coord']['lat'],\n",
    "            'cloudiness': response['clouds']['all'],\n",
    "            'humidity': response['main']['humidity'],\n",
    "            'temperature': response['main']['temp'],\n",
    "            'wind_speed': response['wind']['speed'],\n",
    "            'time': response['dt']\n",
    "        }\n",
    "        \n",
    "        # Create a temporary single row dataframe with the current cities data\n",
    "        temp_df = pd.DataFrame(city_dict, index = ['city']).set_index('city_id')  \n",
    "        \n",
    "        # Add the temporary dataframe row to the pre-intialized city_data DataFrame\n",
    "        city_data = pd.concat([city_data, temp_df])\n",
    "        \n",
    "        # Add 1 for each city iteration to the city counter\n",
    "        city_count += 1\n",
    "        \n",
    "        # Collect the current cities name\n",
    "        city_name = city_dict['name']    \n",
    "            \n",
    "        # Re-intialise the city dictionary to be empty for the next interation\n",
    "        city_dict = {}\n",
    "    \n",
    "    # Raise a KeyError if a cities JSON response does not include any of the needed data\n",
    "    except KeyError as e:\n",
    "        \n",
    "        print(f'Skipping city ... : KeyError: {e} not found.') \n",
    "    \n",
    "    print(f'Accessing city # {city_count} | {city_name}')\n"
   ]
  },
  {
   "cell_type": "markdown",
   "metadata": {},
   "source": [
    "#### Post API call inspection"
   ]
  },
  {
   "cell_type": "code",
   "execution_count": null,
   "metadata": {},
   "outputs": [],
   "source": [
    "len(city_data)"
   ]
  },
  {
   "cell_type": "code",
   "execution_count": null,
   "metadata": {},
   "outputs": [],
   "source": [
    "city_data.info()"
   ]
  },
  {
   "cell_type": "code",
   "execution_count": null,
   "metadata": {},
   "outputs": [],
   "source": [
    "city_data.sample(20)"
   ]
  },
  {
   "cell_type": "markdown",
   "metadata": {},
   "source": [
    "#### Write to CSV"
   ]
  },
  {
   "cell_type": "code",
   "execution_count": null,
   "metadata": {},
   "outputs": [],
   "source": [
    "city_data.to_csv('city_data.csv')"
   ]
  }
 ],
 "metadata": {
  "kernelspec": {
   "display_name": "Python 3",
   "language": "python",
   "name": "python3"
  },
  "language_info": {
   "codemirror_mode": {
    "name": "ipython",
    "version": 3
   },
   "file_extension": ".py",
   "mimetype": "text/x-python",
   "name": "python",
   "nbconvert_exporter": "python",
   "pygments_lexer": "ipython3",
   "version": "3.7.3"
  }
 },
 "nbformat": 4,
 "nbformat_minor": 2
}
